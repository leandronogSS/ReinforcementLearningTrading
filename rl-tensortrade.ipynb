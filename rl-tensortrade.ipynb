{
 "cells": [
  {
   "cell_type": "code",
   "execution_count": 1,
   "metadata": {},
   "outputs": [],
   "source": [
    "!python --version"
   ]
  },
  {
   "cell_type": "markdown",
   "metadata": {},
   "source": [
    "#### Installing used libs"
   ]
  },
  {
   "cell_type": "code",
   "execution_count": 2,
   "metadata": {
    "execution": {
     "iopub.execute_input": "2021-06-02T13:22:28.897397Z",
     "iopub.status.busy": "2021-06-02T13:22:28.897011Z",
     "iopub.status.idle": "2021-06-02T13:22:41.216054Z",
     "shell.execute_reply": "2021-06-02T13:22:41.214962Z",
     "shell.execute_reply.started": "2021-06-02T13:22:28.897362Z"
    },
    "id": "Ep_n0izG_SJH",
    "outputId": "ef634056-1825-476e-8725-5cde47432f4d"
   },
   "outputs": [
    {
     "name": "stdout",
     "output_type": "stream",
     "text": [
      "Requirement already satisfied: tensortrade==1.0.3 in /Users/leandronogueira/Desktop/venv3/lib/python3.7/site-packages (1.0.3)\n",
      "Requirement already satisfied: ta in /Users/leandronogueira/Desktop/venv3/lib/python3.7/site-packages (0.7.0)\n",
      "Requirement already satisfied: matplotlib in /Users/leandronogueira/Desktop/venv3/lib/python3.7/site-packages (3.4.2)\n",
      "Requirement already satisfied: tensorboardX in /Users/leandronogueira/Desktop/venv3/lib/python3.7/site-packages (2.2)\n",
      "Requirement already satisfied: scikit-learn in /Users/leandronogueira/Desktop/venv3/lib/python3.7/site-packages (0.24.2)\n",
      "Requirement already satisfied: gym>=0.14.0 in /Users/leandronogueira/Desktop/venv3/lib/python3.7/site-packages (from tensortrade==1.0.3) (0.18.3)\n",
      "Requirement already satisfied: pandas>=0.25.0 in /Users/leandronogueira/Desktop/venv3/lib/python3.7/site-packages (from tensortrade==1.0.3) (1.2.4)\n",
      "Requirement already satisfied: pyyaml>=5.1.2 in /Users/leandronogueira/Desktop/venv3/lib/python3.7/site-packages (from tensortrade==1.0.3) (5.4.1)\n",
      "Requirement already satisfied: numpy>=1.17.0 in /Users/leandronogueira/Desktop/venv3/lib/python3.7/site-packages (from tensortrade==1.0.3) (1.19.5)\n",
      "Requirement already satisfied: plotly>=4.5.0 in /Users/leandronogueira/Desktop/venv3/lib/python3.7/site-packages (from tensortrade==1.0.3) (4.14.3)\n",
      "Requirement already satisfied: tensorflow>=2.1.0 in /Users/leandronogueira/Desktop/venv3/lib/python3.7/site-packages (from tensortrade==1.0.3) (2.5.0)\n",
      "Requirement already satisfied: ipython>=7.12.0 in /Users/leandronogueira/Desktop/venv3/lib/python3.7/site-packages (from tensortrade==1.0.3) (7.24.1)\n",
      "Requirement already satisfied: stochastic>=0.6.0 in /Users/leandronogueira/Desktop/venv3/lib/python3.7/site-packages (from tensortrade==1.0.3) (0.6.0)\n",
      "Requirement already satisfied: cycler>=0.10 in /Users/leandronogueira/Desktop/venv3/lib/python3.7/site-packages (from matplotlib) (0.10.0)\n",
      "Requirement already satisfied: pillow>=6.2.0 in /Users/leandronogueira/Desktop/venv3/lib/python3.7/site-packages (from matplotlib) (8.2.0)\n",
      "Requirement already satisfied: python-dateutil>=2.7 in /Users/leandronogueira/Desktop/venv3/lib/python3.7/site-packages (from matplotlib) (2.8.1)\n",
      "Requirement already satisfied: kiwisolver>=1.0.1 in /Users/leandronogueira/Desktop/venv3/lib/python3.7/site-packages (from matplotlib) (1.3.1)\n",
      "Requirement already satisfied: pyparsing>=2.2.1 in /Users/leandronogueira/Desktop/venv3/lib/python3.7/site-packages (from matplotlib) (2.4.7)\n",
      "Requirement already satisfied: six in /Users/leandronogueira/Desktop/venv3/lib/python3.7/site-packages (from cycler>=0.10->matplotlib) (1.15.0)\n",
      "Requirement already satisfied: scipy in /Users/leandronogueira/Desktop/venv3/lib/python3.7/site-packages (from gym>=0.14.0->tensortrade==1.0.3) (1.6.3)\n",
      "Requirement already satisfied: cloudpickle<1.7.0,>=1.2.0 in /Users/leandronogueira/Desktop/venv3/lib/python3.7/site-packages (from gym>=0.14.0->tensortrade==1.0.3) (1.6.0)\n",
      "Requirement already satisfied: pyglet<=1.5.15,>=1.4.0 in /Users/leandronogueira/Desktop/venv3/lib/python3.7/site-packages (from gym>=0.14.0->tensortrade==1.0.3) (1.5.15)\n",
      "Requirement already satisfied: pygments in /Users/leandronogueira/Desktop/venv3/lib/python3.7/site-packages (from ipython>=7.12.0->tensortrade==1.0.3) (2.9.0)\n",
      "Requirement already satisfied: setuptools>=18.5 in /Users/leandronogueira/Desktop/venv3/lib/python3.7/site-packages (from ipython>=7.12.0->tensortrade==1.0.3) (57.0.0)\n",
      "Requirement already satisfied: pexpect>4.3 in /Users/leandronogueira/Desktop/venv3/lib/python3.7/site-packages (from ipython>=7.12.0->tensortrade==1.0.3) (4.8.0)\n",
      "Requirement already satisfied: appnope in /Users/leandronogueira/Desktop/venv3/lib/python3.7/site-packages (from ipython>=7.12.0->tensortrade==1.0.3) (0.1.2)\n",
      "Requirement already satisfied: pickleshare in /Users/leandronogueira/Desktop/venv3/lib/python3.7/site-packages (from ipython>=7.12.0->tensortrade==1.0.3) (0.7.5)\n",
      "Requirement already satisfied: traitlets>=4.2 in /Users/leandronogueira/Desktop/venv3/lib/python3.7/site-packages (from ipython>=7.12.0->tensortrade==1.0.3) (5.0.5)\n",
      "Requirement already satisfied: backcall in /Users/leandronogueira/Desktop/venv3/lib/python3.7/site-packages (from ipython>=7.12.0->tensortrade==1.0.3) (0.2.0)\n",
      "Requirement already satisfied: jedi>=0.16 in /Users/leandronogueira/Desktop/venv3/lib/python3.7/site-packages (from ipython>=7.12.0->tensortrade==1.0.3) (0.18.0)\n",
      "Requirement already satisfied: prompt-toolkit!=3.0.0,!=3.0.1,<3.1.0,>=2.0.0 in /Users/leandronogueira/Desktop/venv3/lib/python3.7/site-packages (from ipython>=7.12.0->tensortrade==1.0.3) (3.0.18)\n",
      "Requirement already satisfied: matplotlib-inline in /Users/leandronogueira/Desktop/venv3/lib/python3.7/site-packages (from ipython>=7.12.0->tensortrade==1.0.3) (0.1.2)\n",
      "Requirement already satisfied: decorator in /Users/leandronogueira/Desktop/venv3/lib/python3.7/site-packages (from ipython>=7.12.0->tensortrade==1.0.3) (5.0.9)\n",
      "Requirement already satisfied: parso<0.9.0,>=0.8.0 in /Users/leandronogueira/Desktop/venv3/lib/python3.7/site-packages (from jedi>=0.16->ipython>=7.12.0->tensortrade==1.0.3) (0.8.2)\n",
      "Requirement already satisfied: pytz>=2017.3 in /Users/leandronogueira/Desktop/venv3/lib/python3.7/site-packages (from pandas>=0.25.0->tensortrade==1.0.3) (2021.1)\n",
      "Requirement already satisfied: ptyprocess>=0.5 in /Users/leandronogueira/Desktop/venv3/lib/python3.7/site-packages (from pexpect>4.3->ipython>=7.12.0->tensortrade==1.0.3) (0.7.0)\n",
      "Requirement already satisfied: retrying>=1.3.3 in /Users/leandronogueira/Desktop/venv3/lib/python3.7/site-packages (from plotly>=4.5.0->tensortrade==1.0.3) (1.3.3)\n",
      "Requirement already satisfied: wcwidth in /Users/leandronogueira/Desktop/venv3/lib/python3.7/site-packages (from prompt-toolkit!=3.0.0,!=3.0.1,<3.1.0,>=2.0.0->ipython>=7.12.0->tensortrade==1.0.3) (0.2.5)\n",
      "Requirement already satisfied: google-pasta~=0.2 in /Users/leandronogueira/Desktop/venv3/lib/python3.7/site-packages (from tensorflow>=2.1.0->tensortrade==1.0.3) (0.2.0)\n",
      "Requirement already satisfied: opt-einsum~=3.3.0 in /Users/leandronogueira/Desktop/venv3/lib/python3.7/site-packages (from tensorflow>=2.1.0->tensortrade==1.0.3) (3.3.0)\n",
      "Requirement already satisfied: protobuf>=3.9.2 in /Users/leandronogueira/Desktop/venv3/lib/python3.7/site-packages (from tensorflow>=2.1.0->tensortrade==1.0.3) (3.17.3)\n",
      "Requirement already satisfied: flatbuffers~=1.12.0 in /Users/leandronogueira/Desktop/venv3/lib/python3.7/site-packages (from tensorflow>=2.1.0->tensortrade==1.0.3) (1.12)\n",
      "Requirement already satisfied: keras-nightly~=2.5.0.dev in /Users/leandronogueira/Desktop/venv3/lib/python3.7/site-packages (from tensorflow>=2.1.0->tensortrade==1.0.3) (2.5.0.dev2021032900)\n",
      "Requirement already satisfied: wheel~=0.35 in /Users/leandronogueira/Desktop/venv3/lib/python3.7/site-packages (from tensorflow>=2.1.0->tensortrade==1.0.3) (0.36.2)\n",
      "Requirement already satisfied: astunparse~=1.6.3 in /Users/leandronogueira/Desktop/venv3/lib/python3.7/site-packages (from tensorflow>=2.1.0->tensortrade==1.0.3) (1.6.3)\n",
      "Requirement already satisfied: grpcio~=1.34.0 in /Users/leandronogueira/Desktop/venv3/lib/python3.7/site-packages (from tensorflow>=2.1.0->tensortrade==1.0.3) (1.34.1)\n",
      "Requirement already satisfied: termcolor~=1.1.0 in /Users/leandronogueira/Desktop/venv3/lib/python3.7/site-packages (from tensorflow>=2.1.0->tensortrade==1.0.3) (1.1.0)\n",
      "Requirement already satisfied: tensorflow-estimator<2.6.0,>=2.5.0rc0 in /Users/leandronogueira/Desktop/venv3/lib/python3.7/site-packages (from tensorflow>=2.1.0->tensortrade==1.0.3) (2.5.0)\n",
      "Requirement already satisfied: wrapt~=1.12.1 in /Users/leandronogueira/Desktop/venv3/lib/python3.7/site-packages (from tensorflow>=2.1.0->tensortrade==1.0.3) (1.12.1)\n",
      "Requirement already satisfied: tensorboard~=2.5 in /Users/leandronogueira/Desktop/venv3/lib/python3.7/site-packages (from tensorflow>=2.1.0->tensortrade==1.0.3) (2.5.0)\n",
      "Requirement already satisfied: keras-preprocessing~=1.1.2 in /Users/leandronogueira/Desktop/venv3/lib/python3.7/site-packages (from tensorflow>=2.1.0->tensortrade==1.0.3) (1.1.2)\n",
      "Requirement already satisfied: absl-py~=0.10 in /Users/leandronogueira/Desktop/venv3/lib/python3.7/site-packages (from tensorflow>=2.1.0->tensortrade==1.0.3) (0.12.0)\n",
      "Requirement already satisfied: typing-extensions~=3.7.4 in /Users/leandronogueira/Desktop/venv3/lib/python3.7/site-packages (from tensorflow>=2.1.0->tensortrade==1.0.3) (3.7.4.3)\n",
      "Requirement already satisfied: gast==0.4.0 in /Users/leandronogueira/Desktop/venv3/lib/python3.7/site-packages (from tensorflow>=2.1.0->tensortrade==1.0.3) (0.4.0)\n",
      "Requirement already satisfied: h5py~=3.1.0 in /Users/leandronogueira/Desktop/venv3/lib/python3.7/site-packages (from tensorflow>=2.1.0->tensortrade==1.0.3) (3.1.0)\n"
     ]
    },
    {
     "name": "stdout",
     "output_type": "stream",
     "text": [
      "Requirement already satisfied: cached-property in /Users/leandronogueira/Desktop/venv3/lib/python3.7/site-packages (from h5py~=3.1.0->tensorflow>=2.1.0->tensortrade==1.0.3) (1.5.2)\n",
      "Requirement already satisfied: markdown>=2.6.8 in /Users/leandronogueira/Desktop/venv3/lib/python3.7/site-packages (from tensorboard~=2.5->tensorflow>=2.1.0->tensortrade==1.0.3) (3.3.4)\n",
      "Requirement already satisfied: requests<3,>=2.21.0 in /Users/leandronogueira/Desktop/venv3/lib/python3.7/site-packages (from tensorboard~=2.5->tensorflow>=2.1.0->tensortrade==1.0.3) (2.25.1)\n",
      "Requirement already satisfied: google-auth-oauthlib<0.5,>=0.4.1 in /Users/leandronogueira/Desktop/venv3/lib/python3.7/site-packages (from tensorboard~=2.5->tensorflow>=2.1.0->tensortrade==1.0.3) (0.4.4)\n",
      "Requirement already satisfied: tensorboard-plugin-wit>=1.6.0 in /Users/leandronogueira/Desktop/venv3/lib/python3.7/site-packages (from tensorboard~=2.5->tensorflow>=2.1.0->tensortrade==1.0.3) (1.8.0)\n",
      "Requirement already satisfied: tensorboard-data-server<0.7.0,>=0.6.0 in /Users/leandronogueira/Desktop/venv3/lib/python3.7/site-packages (from tensorboard~=2.5->tensorflow>=2.1.0->tensortrade==1.0.3) (0.6.1)\n",
      "Requirement already satisfied: werkzeug>=0.11.15 in /Users/leandronogueira/Desktop/venv3/lib/python3.7/site-packages (from tensorboard~=2.5->tensorflow>=2.1.0->tensortrade==1.0.3) (2.0.1)\n",
      "Requirement already satisfied: google-auth<2,>=1.6.3 in /Users/leandronogueira/Desktop/venv3/lib/python3.7/site-packages (from tensorboard~=2.5->tensorflow>=2.1.0->tensortrade==1.0.3) (1.31.0)\n",
      "Requirement already satisfied: pyasn1-modules>=0.2.1 in /Users/leandronogueira/Desktop/venv3/lib/python3.7/site-packages (from google-auth<2,>=1.6.3->tensorboard~=2.5->tensorflow>=2.1.0->tensortrade==1.0.3) (0.2.8)\n",
      "Requirement already satisfied: rsa<5,>=3.1.4 in /Users/leandronogueira/Desktop/venv3/lib/python3.7/site-packages (from google-auth<2,>=1.6.3->tensorboard~=2.5->tensorflow>=2.1.0->tensortrade==1.0.3) (4.7.2)\n",
      "Requirement already satisfied: cachetools<5.0,>=2.0.0 in /Users/leandronogueira/Desktop/venv3/lib/python3.7/site-packages (from google-auth<2,>=1.6.3->tensorboard~=2.5->tensorflow>=2.1.0->tensortrade==1.0.3) (4.2.2)\n",
      "Requirement already satisfied: requests-oauthlib>=0.7.0 in /Users/leandronogueira/Desktop/venv3/lib/python3.7/site-packages (from google-auth-oauthlib<0.5,>=0.4.1->tensorboard~=2.5->tensorflow>=2.1.0->tensortrade==1.0.3) (1.3.0)\n",
      "Requirement already satisfied: importlib-metadata in /Users/leandronogueira/Desktop/venv3/lib/python3.7/site-packages (from markdown>=2.6.8->tensorboard~=2.5->tensorflow>=2.1.0->tensortrade==1.0.3) (4.5.0)\n",
      "Requirement already satisfied: pyasn1<0.5.0,>=0.4.6 in /Users/leandronogueira/Desktop/venv3/lib/python3.7/site-packages (from pyasn1-modules>=0.2.1->google-auth<2,>=1.6.3->tensorboard~=2.5->tensorflow>=2.1.0->tensortrade==1.0.3) (0.4.8)\n",
      "Requirement already satisfied: idna<3,>=2.5 in /Users/leandronogueira/Desktop/venv3/lib/python3.7/site-packages (from requests<3,>=2.21.0->tensorboard~=2.5->tensorflow>=2.1.0->tensortrade==1.0.3) (2.10)\n",
      "Requirement already satisfied: urllib3<1.27,>=1.21.1 in /Users/leandronogueira/Desktop/venv3/lib/python3.7/site-packages (from requests<3,>=2.21.0->tensorboard~=2.5->tensorflow>=2.1.0->tensortrade==1.0.3) (1.26.5)\n",
      "Requirement already satisfied: chardet<5,>=3.0.2 in /Users/leandronogueira/Desktop/venv3/lib/python3.7/site-packages (from requests<3,>=2.21.0->tensorboard~=2.5->tensorflow>=2.1.0->tensortrade==1.0.3) (4.0.0)\n",
      "Requirement already satisfied: certifi>=2017.4.17 in /Users/leandronogueira/Desktop/venv3/lib/python3.7/site-packages (from requests<3,>=2.21.0->tensorboard~=2.5->tensorflow>=2.1.0->tensortrade==1.0.3) (2021.5.30)\n",
      "Requirement already satisfied: oauthlib>=3.0.0 in /Users/leandronogueira/Desktop/venv3/lib/python3.7/site-packages (from requests-oauthlib>=0.7.0->google-auth-oauthlib<0.5,>=0.4.1->tensorboard~=2.5->tensorflow>=2.1.0->tensortrade==1.0.3) (3.1.1)\n",
      "Requirement already satisfied: ipython-genutils in /Users/leandronogueira/Desktop/venv3/lib/python3.7/site-packages (from traitlets>=4.2->ipython>=7.12.0->tensortrade==1.0.3) (0.2.0)\n",
      "Requirement already satisfied: threadpoolctl>=2.0.0 in /Users/leandronogueira/Desktop/venv3/lib/python3.7/site-packages (from scikit-learn) (2.1.0)\n",
      "Requirement already satisfied: joblib>=0.11 in /Users/leandronogueira/Desktop/venv3/lib/python3.7/site-packages (from scikit-learn) (1.0.1)\n",
      "Requirement already satisfied: zipp>=0.5 in /Users/leandronogueira/Desktop/venv3/lib/python3.7/site-packages (from importlib-metadata->markdown>=2.6.8->tensorboard~=2.5->tensorflow>=2.1.0->tensortrade==1.0.3) (3.4.1)\n"
     ]
    }
   ],
   "source": [
    "!pip install -U tensortrade==1.0.3 ta matplotlib tensorboardX scikit-learn"
   ]
  },
  {
   "cell_type": "markdown",
   "metadata": {},
   "source": [
    "#### Checking if installed version of Tensortrade is the version 1.0.3"
   ]
  },
  {
   "cell_type": "code",
   "execution_count": 3,
   "metadata": {},
   "outputs": [
    {
     "name": "stdout",
     "output_type": "stream",
     "text": [
      "1.0.3\n"
     ]
    }
   ],
   "source": [
    "import tensortrade\n",
    "print(tensortrade.__version__)"
   ]
  },
  {
   "cell_type": "markdown",
   "metadata": {},
   "source": [
    "#### Importing used libs"
   ]
  },
  {
   "cell_type": "code",
   "execution_count": 4,
   "metadata": {
    "execution": {
     "iopub.execute_input": "2021-06-02T13:25:13.227381Z",
     "iopub.status.busy": "2021-06-02T13:25:13.226753Z",
     "iopub.status.idle": "2021-06-02T13:25:13.381434Z",
     "shell.execute_reply": "2021-06-02T13:25:13.380705Z",
     "shell.execute_reply.started": "2021-06-02T13:25:13.227333Z"
    },
    "id": "q2xgXrsXeGbE"
   },
   "outputs": [],
   "source": [
    "import random\n",
    "\n",
    "import ta\n",
    "import pandas as pd\n",
    "\n",
    "import numpy as np\n",
    "import matplotlib.pyplot as plt\n",
    "from sklearn.preprocessing import MinMaxScaler\n",
    "\n",
    "import tensortrade.env.default as default\n",
    "from tensortrade.feed.core import Stream, DataFeed, NameSpace\n",
    "from tensortrade.oms.exchanges import Exchange\n",
    "from tensortrade.oms.services.execution.simulated import execute_order\n",
    "from tensortrade.oms.instruments import USD, BTC, ETH\n",
    "from tensortrade.oms.wallets import Wallet, Portfolio\n",
    "from tensortrade.agents import A2CAgent\n",
    "import tensortrade.stochastic as sp \n",
    "\n",
    "from tensortrade.env.default.actions import SimpleOrders, BSH, ManagedRiskOrders\n",
    "from collections import OrderedDict\n",
    "from tensortrade.oms.orders.criteria import Stop, StopDirection\n",
    "from tensortrade.env.default.actions import ManagedRiskOrders\n",
    "from tensortrade.env.default.rewards import RiskAdjustedReturns"
   ]
  },
  {
   "cell_type": "markdown",
   "metadata": {},
   "source": [
    "#### Helper functions used to generate technical analysis features and create the environment for agent training and testing"
   ]
  },
  {
   "cell_type": "code",
   "execution_count": 5,
   "metadata": {
    "execution": {
     "iopub.execute_input": "2021-06-02T13:25:13.383608Z",
     "iopub.status.busy": "2021-06-02T13:25:13.383048Z",
     "iopub.status.idle": "2021-06-02T13:25:13.394288Z",
     "shell.execute_reply": "2021-06-02T13:25:13.393306Z",
     "shell.execute_reply.started": "2021-06-02T13:25:13.383565Z"
    },
    "id": "26j9yP1thSwo"
   },
   "outputs": [],
   "source": [
    "def fetchTaFeatures(data, columns = {'open': \"open\", 'high':\"high\", 'low':\"low\", 'close':\"close\", 'volume':\"volume\"}, \n",
    "                   colprefix=\"\"):\n",
    "    data = ta.add_all_ta_features(data, columns['open'], columns['high'], columns['low'], columns['close'], \n",
    "                                  columns['volume'], colprefix=colprefix, fillna=True)\n",
    "    data.columns = [name.lower() for name in data.columns]\n",
    "    return data\n",
    "\n",
    "def createEnv(config):\n",
    "\n",
    "    with NameSpace(\"bitfinex\"):\n",
    "        bitfinex_streams = [\n",
    "            Stream.source(list(config[\"data\"][c]), dtype=\"float\").rename(c) for c in config[\"data\"].columns\n",
    "        ]\n",
    "\n",
    "    feed = DataFeed(bitfinex_streams)\n",
    "\n",
    "\n",
    "    p = Stream.source(list(config[\"data\"][\"close\"]), dtype=\"float\").rename(\"USD-BTC\")\n",
    "\n",
    "    bitstamp = Exchange(\"bitfinex\", service=execute_order)(\n",
    "        p\n",
    "    )\n",
    "    \n",
    "    cash = Wallet(bitstamp, 10000 * USD)\n",
    "    asset = Wallet(bitstamp, 0 * BTC)\n",
    "\n",
    "    portfolio = Portfolio(USD, [cash, asset\n",
    "        \n",
    "    ])\n",
    "    \n",
    "    reward = RiskAdjustedReturns(return_algorithm = \"sortino\", window_size=3000)\n",
    "    action_scheme = ManagedRiskOrders(stop=[0.1], take=[0.05, 0.1, 0.04, 0.02], trade_sizes=[20])\n",
    "    \n",
    "    env = default.create(\n",
    "      feed=feed,\n",
    "      portfolio=portfolio,\n",
    "      action_scheme=action_scheme,\n",
    "      reward_scheme=reward,\n",
    "      window_size=config[\"window_size\"]\n",
    "    )\n",
    "    \n",
    "    return env\n"
   ]
  },
  {
   "cell_type": "markdown",
   "metadata": {},
   "source": [
    "#### Creating data with stochastic process for training"
   ]
  },
  {
   "cell_type": "code",
   "execution_count": 102,
   "metadata": {
    "execution": {
     "iopub.execute_input": "2021-06-02T13:25:13.396206Z",
     "iopub.status.busy": "2021-06-02T13:25:13.395918Z",
     "iopub.status.idle": "2021-06-02T13:25:19.766586Z",
     "shell.execute_reply": "2021-06-02T13:25:19.765621Z",
     "shell.execute_reply.started": "2021-06-02T13:25:13.396170Z"
    },
    "scrolled": true
   },
   "outputs": [
    {
     "data": {
      "text/plain": [
       "<AxesSubplot:>"
      ]
     },
     "execution_count": 102,
     "metadata": {},
     "output_type": "execute_result"
    },
    {
     "data": {
      "image/png": "[encoded data removed]",
      "text/plain": [
       "<Figure size 432x288 with 1 Axes>"
      ]
     },
     "metadata": {
      "needs_background": "light"
     },
     "output_type": "display_data"
    }
   ],
   "source": [
    "# from scipy.signal import savgol_filter\n",
    "# funcs = [sp.gbm, sp.heston]\n",
    "\n",
    "# data = sp.fbm(\n",
    "    \n",
    "#     base_price=random.randint(20, 2000),\n",
    "#     base_volume=random.randint(40, 5000),\n",
    "#     start_date=\"2010-01-01\",\n",
    "#     times_to_generate=50000,\n",
    "#     time_frame='1H')\n",
    "\n",
    "# for column in [\"close\", \"open\", \"high\", \"low\", \"volume\"]:\n",
    "#     data[f\"diff_{column}\"] = data[f\"{column}\"].apply(np.log).diff().dropna()\n",
    "#     data[f\"soft_{column}\"] = savgol_filter(data[column], 35, 2)\n",
    "\n",
    "\n",
    "# data.to_csv(\"fake_data.csv\", index=False)\n",
    "data = pd.read_csv(\"fake_data.csv\")\n",
    "\n",
    "data.close.plot()\n",
    "\n"
   ]
  },
  {
   "cell_type": "code",
   "execution_count": 103,
   "metadata": {},
   "outputs": [
    {
     "data": {
      "text/plain": [
       "Index(['open', 'high', 'low', 'close', 'volume', 'diff_close', 'soft_close',\n",
       "       'diff_open', 'soft_open', 'diff_high', 'soft_high', 'diff_low',\n",
       "       'soft_low', 'diff_volume', 'soft_volume'],\n",
       "      dtype='object')"
      ]
     },
     "execution_count": 103,
     "metadata": {},
     "output_type": "execute_result"
    }
   ],
   "source": [
    "data.columns"
   ]
  },
  {
   "cell_type": "markdown",
   "metadata": {},
   "source": [
    "#### Adding technical analysis features to the dataframe"
   ]
  },
  {
   "cell_type": "code",
   "execution_count": 104,
   "metadata": {
    "execution": {
     "iopub.execute_input": "2021-06-02T13:25:19.768511Z",
     "iopub.status.busy": "2021-06-02T13:25:19.768172Z",
     "iopub.status.idle": "2021-06-02T13:26:00.471081Z",
     "shell.execute_reply": "2021-06-02T13:26:00.470102Z",
     "shell.execute_reply.started": "2021-06-02T13:25:19.768478Z"
    },
    "id": "lo2X9O6CHhda",
    "outputId": "d186b587-a96b-4851-f6ef-bca2776a042e"
   },
   "outputs": [
    {
     "name": "stderr",
     "output_type": "stream",
     "text": [
      "/Library/Frameworks/Python.framework/Versions/3.7/lib/python3.7/site-packages/ta/trend.py:768: RuntimeWarning:\n",
      "\n",
      "invalid value encountered in double_scalars\n",
      "\n",
      "/Library/Frameworks/Python.framework/Versions/3.7/lib/python3.7/site-packages/ta/trend.py:772: RuntimeWarning:\n",
      "\n",
      "invalid value encountered in double_scalars\n",
      "\n",
      "/Library/Frameworks/Python.framework/Versions/3.7/lib/python3.7/site-packages/ta/trend.py:768: RuntimeWarning:\n",
      "\n",
      "invalid value encountered in double_scalars\n",
      "\n",
      "/Library/Frameworks/Python.framework/Versions/3.7/lib/python3.7/site-packages/ta/trend.py:772: RuntimeWarning:\n",
      "\n",
      "invalid value encountered in double_scalars\n",
      "\n"
     ]
    },
    {
     "ename": "KeyboardInterrupt",
     "evalue": "",
     "output_type": "error",
     "traceback": [
      "\u001b[0;31m---------------------------------------------------------------------------\u001b[0m",
      "\u001b[0;31mKeyboardInterrupt\u001b[0m                         Traceback (most recent call last)",
      "\u001b[0;32m<ipython-input-104-41fea6ecf143>\u001b[0m in \u001b[0;36m<module>\u001b[0;34m\u001b[0m\n\u001b[1;32m      3\u001b[0m                        columns = {'open': \"soft_open\", 'high':\"soft_high\", 'low':\"soft_low\", \n\u001b[1;32m      4\u001b[0m                                   'close':\"soft_close\", 'volume':\"volume\"}, \n\u001b[0;32m----> 5\u001b[0;31m                        \u001b[0mcolprefix\u001b[0m\u001b[0;34m=\u001b[0m\u001b[0;34m\"soft_\"\u001b[0m\u001b[0;34m\u001b[0m\u001b[0;34m\u001b[0m\u001b[0m\n\u001b[0m\u001b[1;32m      6\u001b[0m                       )\n",
      "\u001b[0;32m<ipython-input-5-d234192a3403>\u001b[0m in \u001b[0;36mfetchTaFeatures\u001b[0;34m(data, columns, colprefix)\u001b[0m\n\u001b[1;32m      2\u001b[0m                    colprefix=\"\"):\n\u001b[1;32m      3\u001b[0m     data = ta.add_all_ta_features(data, columns['open'], columns['high'], columns['low'], columns['close'], \n\u001b[0;32m----> 4\u001b[0;31m                                   columns['volume'], colprefix=colprefix, fillna=True)\n\u001b[0m\u001b[1;32m      5\u001b[0m     \u001b[0mdata\u001b[0m\u001b[0;34m.\u001b[0m\u001b[0mcolumns\u001b[0m \u001b[0;34m=\u001b[0m \u001b[0;34m[\u001b[0m\u001b[0mname\u001b[0m\u001b[0;34m.\u001b[0m\u001b[0mlower\u001b[0m\u001b[0;34m(\u001b[0m\u001b[0;34m)\u001b[0m \u001b[0;32mfor\u001b[0m \u001b[0mname\u001b[0m \u001b[0;32min\u001b[0m \u001b[0mdata\u001b[0m\u001b[0;34m.\u001b[0m\u001b[0mcolumns\u001b[0m\u001b[0;34m]\u001b[0m\u001b[0;34m\u001b[0m\u001b[0;34m\u001b[0m\u001b[0m\n\u001b[1;32m      6\u001b[0m     \u001b[0;32mreturn\u001b[0m \u001b[0mdata\u001b[0m\u001b[0;34m\u001b[0m\u001b[0;34m\u001b[0m\u001b[0m\n",
      "\u001b[0;32m/Library/Frameworks/Python.framework/Versions/3.7/lib/python3.7/site-packages/ta/wrapper.py\u001b[0m in \u001b[0;36madd_all_ta_features\u001b[0;34m(df, open, high, low, close, volume, fillna, colprefix)\u001b[0m\n\u001b[1;32m    558\u001b[0m     )\n\u001b[1;32m    559\u001b[0m     df = add_trend_ta(\n\u001b[0;32m--> 560\u001b[0;31m         \u001b[0mdf\u001b[0m\u001b[0;34m=\u001b[0m\u001b[0mdf\u001b[0m\u001b[0;34m,\u001b[0m \u001b[0mhigh\u001b[0m\u001b[0;34m=\u001b[0m\u001b[0mhigh\u001b[0m\u001b[0;34m,\u001b[0m \u001b[0mlow\u001b[0m\u001b[0;34m=\u001b[0m\u001b[0mlow\u001b[0m\u001b[0;34m,\u001b[0m \u001b[0mclose\u001b[0m\u001b[0;34m=\u001b[0m\u001b[0mclose\u001b[0m\u001b[0;34m,\u001b[0m \u001b[0mfillna\u001b[0m\u001b[0;34m=\u001b[0m\u001b[0mfillna\u001b[0m\u001b[0;34m,\u001b[0m \u001b[0mcolprefix\u001b[0m\u001b[0;34m=\u001b[0m\u001b[0mcolprefix\u001b[0m\u001b[0;34m\u001b[0m\u001b[0;34m\u001b[0m\u001b[0m\n\u001b[0m\u001b[1;32m    561\u001b[0m     )\n\u001b[1;32m    562\u001b[0m     df = add_momentum_ta(\n",
      "\u001b[0;32m/Library/Frameworks/Python.framework/Versions/3.7/lib/python3.7/site-packages/ta/wrapper.py\u001b[0m in \u001b[0;36madd_trend_ta\u001b[0;34m(df, high, low, close, fillna, colprefix)\u001b[0m\n\u001b[1;32m    359\u001b[0m         \u001b[0mstep\u001b[0m\u001b[0;34m=\u001b[0m\u001b[0;36m0.02\u001b[0m\u001b[0;34m,\u001b[0m\u001b[0;34m\u001b[0m\u001b[0;34m\u001b[0m\u001b[0m\n\u001b[1;32m    360\u001b[0m         \u001b[0mmax_step\u001b[0m\u001b[0;34m=\u001b[0m\u001b[0;36m0.20\u001b[0m\u001b[0;34m,\u001b[0m\u001b[0;34m\u001b[0m\u001b[0;34m\u001b[0m\u001b[0m\n\u001b[0;32m--> 361\u001b[0;31m         \u001b[0mfillna\u001b[0m\u001b[0;34m=\u001b[0m\u001b[0mfillna\u001b[0m\u001b[0;34m,\u001b[0m\u001b[0;34m\u001b[0m\u001b[0;34m\u001b[0m\u001b[0m\n\u001b[0m\u001b[1;32m    362\u001b[0m     )\n\u001b[1;32m    363\u001b[0m     \u001b[0;31m# df[f'{colprefix}trend_psar'] = indicator.psar()\u001b[0m\u001b[0;34m\u001b[0m\u001b[0;34m\u001b[0m\u001b[0;34m\u001b[0m\u001b[0m\n",
      "\u001b[0;32m/Library/Frameworks/Python.framework/Versions/3.7/lib/python3.7/site-packages/ta/trend.py\u001b[0m in \u001b[0;36m__init__\u001b[0;34m(self, high, low, close, step, max_step, fillna)\u001b[0m\n\u001b[1;32m    925\u001b[0m         \u001b[0mself\u001b[0m\u001b[0;34m.\u001b[0m\u001b[0m_max_step\u001b[0m \u001b[0;34m=\u001b[0m \u001b[0mmax_step\u001b[0m\u001b[0;34m\u001b[0m\u001b[0;34m\u001b[0m\u001b[0m\n\u001b[1;32m    926\u001b[0m         \u001b[0mself\u001b[0m\u001b[0;34m.\u001b[0m\u001b[0m_fillna\u001b[0m \u001b[0;34m=\u001b[0m \u001b[0mfillna\u001b[0m\u001b[0;34m\u001b[0m\u001b[0;34m\u001b[0m\u001b[0m\n\u001b[0;32m--> 927\u001b[0;31m         \u001b[0mself\u001b[0m\u001b[0;34m.\u001b[0m\u001b[0m_run\u001b[0m\u001b[0;34m(\u001b[0m\u001b[0;34m)\u001b[0m\u001b[0;34m\u001b[0m\u001b[0;34m\u001b[0m\u001b[0m\n\u001b[0m\u001b[1;32m    928\u001b[0m \u001b[0;34m\u001b[0m\u001b[0m\n\u001b[1;32m    929\u001b[0m     \u001b[0;32mdef\u001b[0m \u001b[0m_run\u001b[0m\u001b[0;34m(\u001b[0m\u001b[0mself\u001b[0m\u001b[0;34m)\u001b[0m\u001b[0;34m:\u001b[0m  \u001b[0;31m# noqa\u001b[0m\u001b[0;34m\u001b[0m\u001b[0;34m\u001b[0m\u001b[0m\n",
      "\u001b[0;32m/Library/Frameworks/Python.framework/Versions/3.7/lib/python3.7/site-packages/ta/trend.py\u001b[0m in \u001b[0;36m_run\u001b[0;34m(self)\u001b[0m\n\u001b[1;32m    945\u001b[0m             \u001b[0;32mif\u001b[0m \u001b[0mup_trend\u001b[0m\u001b[0;34m:\u001b[0m\u001b[0;34m\u001b[0m\u001b[0;34m\u001b[0m\u001b[0m\n\u001b[1;32m    946\u001b[0m                 self._psar.iloc[i] = self._psar.iloc[i - 1] + (\n\u001b[0;32m--> 947\u001b[0;31m                     \u001b[0macceleration_factor\u001b[0m \u001b[0;34m*\u001b[0m \u001b[0;34m(\u001b[0m\u001b[0mup_trend_high\u001b[0m \u001b[0;34m-\u001b[0m \u001b[0mself\u001b[0m\u001b[0;34m.\u001b[0m\u001b[0m_psar\u001b[0m\u001b[0;34m.\u001b[0m\u001b[0miloc\u001b[0m\u001b[0;34m[\u001b[0m\u001b[0mi\u001b[0m \u001b[0;34m-\u001b[0m \u001b[0;36m1\u001b[0m\u001b[0;34m]\u001b[0m\u001b[0;34m)\u001b[0m\u001b[0;34m\u001b[0m\u001b[0;34m\u001b[0m\u001b[0m\n\u001b[0m\u001b[1;32m    948\u001b[0m                 )\n\u001b[1;32m    949\u001b[0m \u001b[0;34m\u001b[0m\u001b[0m\n",
      "\u001b[0;32m/Library/Frameworks/Python.framework/Versions/3.7/lib/python3.7/site-packages/pandas/core/indexing.py\u001b[0m in \u001b[0;36m__setitem__\u001b[0;34m(self, key, value)\u001b[0m\n\u001b[1;32m    689\u001b[0m \u001b[0;34m\u001b[0m\u001b[0m\n\u001b[1;32m    690\u001b[0m         \u001b[0miloc\u001b[0m \u001b[0;34m=\u001b[0m \u001b[0mself\u001b[0m \u001b[0;32mif\u001b[0m \u001b[0mself\u001b[0m\u001b[0;34m.\u001b[0m\u001b[0mname\u001b[0m \u001b[0;34m==\u001b[0m \u001b[0;34m\"iloc\"\u001b[0m \u001b[0;32melse\u001b[0m \u001b[0mself\u001b[0m\u001b[0;34m.\u001b[0m\u001b[0mobj\u001b[0m\u001b[0;34m.\u001b[0m\u001b[0miloc\u001b[0m\u001b[0;34m\u001b[0m\u001b[0;34m\u001b[0m\u001b[0m\n\u001b[0;32m--> 691\u001b[0;31m         \u001b[0miloc\u001b[0m\u001b[0;34m.\u001b[0m\u001b[0m_setitem_with_indexer\u001b[0m\u001b[0;34m(\u001b[0m\u001b[0mindexer\u001b[0m\u001b[0;34m,\u001b[0m \u001b[0mvalue\u001b[0m\u001b[0;34m,\u001b[0m \u001b[0mself\u001b[0m\u001b[0;34m.\u001b[0m\u001b[0mname\u001b[0m\u001b[0;34m)\u001b[0m\u001b[0;34m\u001b[0m\u001b[0;34m\u001b[0m\u001b[0m\n\u001b[0m\u001b[1;32m    692\u001b[0m \u001b[0;34m\u001b[0m\u001b[0m\n\u001b[1;32m    693\u001b[0m     \u001b[0;32mdef\u001b[0m \u001b[0m_validate_key\u001b[0m\u001b[0;34m(\u001b[0m\u001b[0mself\u001b[0m\u001b[0;34m,\u001b[0m \u001b[0mkey\u001b[0m\u001b[0;34m,\u001b[0m \u001b[0maxis\u001b[0m\u001b[0;34m:\u001b[0m \u001b[0mint\u001b[0m\u001b[0;34m)\u001b[0m\u001b[0;34m:\u001b[0m\u001b[0;34m\u001b[0m\u001b[0;34m\u001b[0m\u001b[0m\n",
      "\u001b[0;32m/Library/Frameworks/Python.framework/Versions/3.7/lib/python3.7/site-packages/pandas/core/indexing.py\u001b[0m in \u001b[0;36m_setitem_with_indexer\u001b[0;34m(self, indexer, value, name)\u001b[0m\n\u001b[1;32m   1634\u001b[0m             \u001b[0mself\u001b[0m\u001b[0;34m.\u001b[0m\u001b[0m_setitem_with_indexer_split_path\u001b[0m\u001b[0;34m(\u001b[0m\u001b[0mindexer\u001b[0m\u001b[0;34m,\u001b[0m \u001b[0mvalue\u001b[0m\u001b[0;34m,\u001b[0m \u001b[0mname\u001b[0m\u001b[0;34m)\u001b[0m\u001b[0;34m\u001b[0m\u001b[0;34m\u001b[0m\u001b[0m\n\u001b[1;32m   1635\u001b[0m         \u001b[0;32melse\u001b[0m\u001b[0;34m:\u001b[0m\u001b[0;34m\u001b[0m\u001b[0;34m\u001b[0m\u001b[0m\n\u001b[0;32m-> 1636\u001b[0;31m             \u001b[0mself\u001b[0m\u001b[0;34m.\u001b[0m\u001b[0m_setitem_single_block\u001b[0m\u001b[0;34m(\u001b[0m\u001b[0mindexer\u001b[0m\u001b[0;34m,\u001b[0m \u001b[0mvalue\u001b[0m\u001b[0;34m,\u001b[0m \u001b[0mname\u001b[0m\u001b[0;34m)\u001b[0m\u001b[0;34m\u001b[0m\u001b[0;34m\u001b[0m\u001b[0m\n\u001b[0m\u001b[1;32m   1637\u001b[0m \u001b[0;34m\u001b[0m\u001b[0m\n\u001b[1;32m   1638\u001b[0m     \u001b[0;32mdef\u001b[0m \u001b[0m_setitem_with_indexer_split_path\u001b[0m\u001b[0;34m(\u001b[0m\u001b[0mself\u001b[0m\u001b[0;34m,\u001b[0m \u001b[0mindexer\u001b[0m\u001b[0;34m,\u001b[0m \u001b[0mvalue\u001b[0m\u001b[0;34m,\u001b[0m \u001b[0mname\u001b[0m\u001b[0;34m:\u001b[0m \u001b[0mstr\u001b[0m\u001b[0;34m)\u001b[0m\u001b[0;34m:\u001b[0m\u001b[0;34m\u001b[0m\u001b[0;34m\u001b[0m\u001b[0m\n",
      "\u001b[0;32m/Library/Frameworks/Python.framework/Versions/3.7/lib/python3.7/site-packages/pandas/core/indexing.py\u001b[0m in \u001b[0;36m_setitem_single_block\u001b[0;34m(self, indexer, value, name)\u001b[0m\n\u001b[1;32m   1858\u001b[0m         \u001b[0;31m# actually do the set\u001b[0m\u001b[0;34m\u001b[0m\u001b[0;34m\u001b[0m\u001b[0;34m\u001b[0m\u001b[0m\n\u001b[1;32m   1859\u001b[0m         \u001b[0mself\u001b[0m\u001b[0;34m.\u001b[0m\u001b[0mobj\u001b[0m\u001b[0;34m.\u001b[0m\u001b[0m_consolidate_inplace\u001b[0m\u001b[0;34m(\u001b[0m\u001b[0;34m)\u001b[0m\u001b[0;34m\u001b[0m\u001b[0;34m\u001b[0m\u001b[0m\n\u001b[0;32m-> 1860\u001b[0;31m         \u001b[0mself\u001b[0m\u001b[0;34m.\u001b[0m\u001b[0mobj\u001b[0m\u001b[0;34m.\u001b[0m\u001b[0m_mgr\u001b[0m \u001b[0;34m=\u001b[0m \u001b[0mself\u001b[0m\u001b[0;34m.\u001b[0m\u001b[0mobj\u001b[0m\u001b[0;34m.\u001b[0m\u001b[0m_mgr\u001b[0m\u001b[0;34m.\u001b[0m\u001b[0msetitem\u001b[0m\u001b[0;34m(\u001b[0m\u001b[0mindexer\u001b[0m\u001b[0;34m=\u001b[0m\u001b[0mindexer\u001b[0m\u001b[0;34m,\u001b[0m \u001b[0mvalue\u001b[0m\u001b[0;34m=\u001b[0m\u001b[0mvalue\u001b[0m\u001b[0;34m)\u001b[0m\u001b[0;34m\u001b[0m\u001b[0;34m\u001b[0m\u001b[0m\n\u001b[0m\u001b[1;32m   1861\u001b[0m         \u001b[0mself\u001b[0m\u001b[0;34m.\u001b[0m\u001b[0mobj\u001b[0m\u001b[0;34m.\u001b[0m\u001b[0m_maybe_update_cacher\u001b[0m\u001b[0;34m(\u001b[0m\u001b[0mclear\u001b[0m\u001b[0;34m=\u001b[0m\u001b[0;32mTrue\u001b[0m\u001b[0;34m)\u001b[0m\u001b[0;34m\u001b[0m\u001b[0;34m\u001b[0m\u001b[0m\n\u001b[1;32m   1862\u001b[0m \u001b[0;34m\u001b[0m\u001b[0m\n",
      "\u001b[0;32m/Library/Frameworks/Python.framework/Versions/3.7/lib/python3.7/site-packages/pandas/core/internals/managers.py\u001b[0m in \u001b[0;36msetitem\u001b[0;34m(self, indexer, value)\u001b[0m\n\u001b[1;32m    566\u001b[0m \u001b[0;34m\u001b[0m\u001b[0m\n\u001b[1;32m    567\u001b[0m     \u001b[0;32mdef\u001b[0m \u001b[0msetitem\u001b[0m\u001b[0;34m(\u001b[0m\u001b[0mself\u001b[0m\u001b[0;34m,\u001b[0m \u001b[0mindexer\u001b[0m\u001b[0;34m,\u001b[0m \u001b[0mvalue\u001b[0m\u001b[0;34m)\u001b[0m \u001b[0;34m->\u001b[0m \u001b[0;34m\"BlockManager\"\u001b[0m\u001b[0;34m:\u001b[0m\u001b[0;34m\u001b[0m\u001b[0;34m\u001b[0m\u001b[0m\n\u001b[0;32m--> 568\u001b[0;31m         \u001b[0;32mreturn\u001b[0m \u001b[0mself\u001b[0m\u001b[0;34m.\u001b[0m\u001b[0mapply\u001b[0m\u001b[0;34m(\u001b[0m\u001b[0;34m\"setitem\"\u001b[0m\u001b[0;34m,\u001b[0m \u001b[0mindexer\u001b[0m\u001b[0;34m=\u001b[0m\u001b[0mindexer\u001b[0m\u001b[0;34m,\u001b[0m \u001b[0mvalue\u001b[0m\u001b[0;34m=\u001b[0m\u001b[0mvalue\u001b[0m\u001b[0;34m)\u001b[0m\u001b[0;34m\u001b[0m\u001b[0;34m\u001b[0m\u001b[0m\n\u001b[0m\u001b[1;32m    569\u001b[0m \u001b[0;34m\u001b[0m\u001b[0m\n\u001b[1;32m    570\u001b[0m     \u001b[0;32mdef\u001b[0m \u001b[0mputmask\u001b[0m\u001b[0;34m(\u001b[0m\u001b[0mself\u001b[0m\u001b[0;34m,\u001b[0m \u001b[0mmask\u001b[0m\u001b[0;34m,\u001b[0m \u001b[0mnew\u001b[0m\u001b[0;34m,\u001b[0m \u001b[0malign\u001b[0m\u001b[0;34m:\u001b[0m \u001b[0mbool\u001b[0m \u001b[0;34m=\u001b[0m \u001b[0;32mTrue\u001b[0m\u001b[0;34m,\u001b[0m \u001b[0maxis\u001b[0m\u001b[0;34m:\u001b[0m \u001b[0mint\u001b[0m \u001b[0;34m=\u001b[0m \u001b[0;36m0\u001b[0m\u001b[0;34m)\u001b[0m\u001b[0;34m:\u001b[0m\u001b[0;34m\u001b[0m\u001b[0;34m\u001b[0m\u001b[0m\n",
      "\u001b[0;32m/Library/Frameworks/Python.framework/Versions/3.7/lib/python3.7/site-packages/pandas/core/internals/managers.py\u001b[0m in \u001b[0;36mapply\u001b[0;34m(self, f, align_keys, ignore_failures, **kwargs)\u001b[0m\n\u001b[1;32m    425\u001b[0m                     \u001b[0mapplied\u001b[0m \u001b[0;34m=\u001b[0m \u001b[0mb\u001b[0m\u001b[0;34m.\u001b[0m\u001b[0mapply\u001b[0m\u001b[0;34m(\u001b[0m\u001b[0mf\u001b[0m\u001b[0;34m,\u001b[0m \u001b[0;34m**\u001b[0m\u001b[0mkwargs\u001b[0m\u001b[0;34m)\u001b[0m\u001b[0;34m\u001b[0m\u001b[0;34m\u001b[0m\u001b[0m\n\u001b[1;32m    426\u001b[0m                 \u001b[0;32melse\u001b[0m\u001b[0;34m:\u001b[0m\u001b[0;34m\u001b[0m\u001b[0;34m\u001b[0m\u001b[0m\n\u001b[0;32m--> 427\u001b[0;31m                     \u001b[0mapplied\u001b[0m \u001b[0;34m=\u001b[0m \u001b[0mgetattr\u001b[0m\u001b[0;34m(\u001b[0m\u001b[0mb\u001b[0m\u001b[0;34m,\u001b[0m \u001b[0mf\u001b[0m\u001b[0;34m)\u001b[0m\u001b[0;34m(\u001b[0m\u001b[0;34m**\u001b[0m\u001b[0mkwargs\u001b[0m\u001b[0;34m)\u001b[0m\u001b[0;34m\u001b[0m\u001b[0;34m\u001b[0m\u001b[0m\n\u001b[0m\u001b[1;32m    428\u001b[0m             \u001b[0;32mexcept\u001b[0m \u001b[0;34m(\u001b[0m\u001b[0mTypeError\u001b[0m\u001b[0;34m,\u001b[0m \u001b[0mNotImplementedError\u001b[0m\u001b[0;34m)\u001b[0m\u001b[0;34m:\u001b[0m\u001b[0;34m\u001b[0m\u001b[0;34m\u001b[0m\u001b[0m\n\u001b[1;32m    429\u001b[0m                 \u001b[0;32mif\u001b[0m \u001b[0;32mnot\u001b[0m \u001b[0mignore_failures\u001b[0m\u001b[0;34m:\u001b[0m\u001b[0;34m\u001b[0m\u001b[0;34m\u001b[0m\u001b[0m\n",
      "\u001b[0;32m/Library/Frameworks/Python.framework/Versions/3.7/lib/python3.7/site-packages/pandas/core/internals/blocks.py\u001b[0m in \u001b[0;36msetitem\u001b[0;34m(self, indexer, value)\u001b[0m\n\u001b[1;32m    914\u001b[0m         \u001b[0;32mreturn\u001b[0m \u001b[0mrb\u001b[0m\u001b[0;34m\u001b[0m\u001b[0;34m\u001b[0m\u001b[0m\n\u001b[1;32m    915\u001b[0m \u001b[0;34m\u001b[0m\u001b[0m\n\u001b[0;32m--> 916\u001b[0;31m     \u001b[0;32mdef\u001b[0m \u001b[0msetitem\u001b[0m\u001b[0;34m(\u001b[0m\u001b[0mself\u001b[0m\u001b[0;34m,\u001b[0m \u001b[0mindexer\u001b[0m\u001b[0;34m,\u001b[0m \u001b[0mvalue\u001b[0m\u001b[0;34m)\u001b[0m\u001b[0;34m:\u001b[0m\u001b[0;34m\u001b[0m\u001b[0;34m\u001b[0m\u001b[0m\n\u001b[0m\u001b[1;32m    917\u001b[0m         \"\"\"\n\u001b[1;32m    918\u001b[0m         \u001b[0mAttempt\u001b[0m \u001b[0mself\u001b[0m\u001b[0;34m.\u001b[0m\u001b[0mvalues\u001b[0m\u001b[0;34m[\u001b[0m\u001b[0mindexer\u001b[0m\u001b[0;34m]\u001b[0m \u001b[0;34m=\u001b[0m \u001b[0mvalue\u001b[0m\u001b[0;34m,\u001b[0m \u001b[0mpossibly\u001b[0m \u001b[0mcreating\u001b[0m \u001b[0ma\u001b[0m \u001b[0mnew\u001b[0m \u001b[0marray\u001b[0m\u001b[0;34m.\u001b[0m\u001b[0;34m\u001b[0m\u001b[0;34m\u001b[0m\u001b[0m\n",
      "\u001b[0;31mKeyboardInterrupt\u001b[0m: "
     ]
    }
   ],
   "source": [
    "data = fetchTaFeatures(data)\n",
    "data = fetchTaFeatures(data,\n",
    "                       columns = {'open': \"soft_open\", 'high':\"soft_high\", 'low':\"soft_low\", \n",
    "                                  'close':\"soft_close\", 'volume':\"volume\"}, \n",
    "                       colprefix=\"soft_\"\n",
    "                      )"
   ]
  },
  {
   "cell_type": "code",
   "execution_count": 120,
   "metadata": {},
   "outputs": [
    {
     "data": {
      "text/html": [
       "<div>\n",
       "<style scoped>\n",
       "    .dataframe tbody tr th:only-of-type {\n",
       "        vertical-align: middle;\n",
       "    }\n",
       "\n",
       "    .dataframe tbody tr th {\n",
       "        vertical-align: top;\n",
       "    }\n",
       "\n",
       "    .dataframe thead th {\n",
       "        text-align: right;\n",
       "    }\n",
       "</style>\n",
       "<table border=\"1\" class=\"dataframe\">\n",
       "  <thead>\n",
       "    <tr style=\"text-align: right;\">\n",
       "      <th></th>\n",
       "      <th>open</th>\n",
       "      <th>high</th>\n",
       "      <th>low</th>\n",
       "      <th>close</th>\n",
       "      <th>volume</th>\n",
       "      <th>diff_close</th>\n",
       "      <th>soft_close</th>\n",
       "      <th>diff_open</th>\n",
       "      <th>soft_open</th>\n",
       "      <th>diff_high</th>\n",
       "      <th>...</th>\n",
       "      <th>soft_trend_kst_diff</th>\n",
       "      <th>soft_trend_ichimoku_conv</th>\n",
       "      <th>soft_trend_ichimoku_base</th>\n",
       "      <th>soft_trend_ichimoku_a</th>\n",
       "      <th>soft_trend_ichimoku_b</th>\n",
       "      <th>soft_trend_visual_ichimoku_a</th>\n",
       "      <th>soft_trend_visual_ichimoku_b</th>\n",
       "      <th>soft_trend_aroon_up</th>\n",
       "      <th>soft_trend_aroon_down</th>\n",
       "      <th>soft_trend_aroon_ind</th>\n",
       "    </tr>\n",
       "  </thead>\n",
       "  <tbody>\n",
       "    <tr>\n",
       "      <th>0</th>\n",
       "      <td>404.000000</td>\n",
       "      <td>421.499157</td>\n",
       "      <td>402.795040</td>\n",
       "      <td>420.019800</td>\n",
       "      <td>184726.860192</td>\n",
       "      <td>NaN</td>\n",
       "      <td>445.443162</td>\n",
       "      <td>NaN</td>\n",
       "      <td>441.091899</td>\n",
       "      <td>NaN</td>\n",
       "      <td>...</td>\n",
       "      <td>0.000000</td>\n",
       "      <td>442.308376</td>\n",
       "      <td>442.308376</td>\n",
       "      <td>442.308376</td>\n",
       "      <td>442.308376</td>\n",
       "      <td>2959.132019</td>\n",
       "      <td>2958.705208</td>\n",
       "      <td>4.0</td>\n",
       "      <td>4.0</td>\n",
       "      <td>0.0</td>\n",
       "    </tr>\n",
       "    <tr>\n",
       "      <th>1</th>\n",
       "      <td>421.325394</td>\n",
       "      <td>435.436550</td>\n",
       "      <td>421.325394</td>\n",
       "      <td>424.409465</td>\n",
       "      <td>184843.917852</td>\n",
       "      <td>0.010397</td>\n",
       "      <td>439.156348</td>\n",
       "      <td>0.041991</td>\n",
       "      <td>435.627638</td>\n",
       "      <td>0.032531</td>\n",
       "      <td>...</td>\n",
       "      <td>-0.531106</td>\n",
       "      <td>439.417689</td>\n",
       "      <td>439.417689</td>\n",
       "      <td>439.417689</td>\n",
       "      <td>439.417689</td>\n",
       "      <td>2959.132019</td>\n",
       "      <td>2958.705208</td>\n",
       "      <td>4.0</td>\n",
       "      <td>8.0</td>\n",
       "      <td>-4.0</td>\n",
       "    </tr>\n",
       "    <tr>\n",
       "      <th>2</th>\n",
       "      <td>425.063246</td>\n",
       "      <td>425.063246</td>\n",
       "      <td>414.313500</td>\n",
       "      <td>421.258139</td>\n",
       "      <td>184583.836810</td>\n",
       "      <td>-0.007453</td>\n",
       "      <td>433.361399</td>\n",
       "      <td>0.008833</td>\n",
       "      <td>430.586195</td>\n",
       "      <td>-0.024111</td>\n",
       "      <td>...</td>\n",
       "      <td>-1.025277</td>\n",
       "      <td>436.751903</td>\n",
       "      <td>436.751903</td>\n",
       "      <td>436.751903</td>\n",
       "      <td>436.751903</td>\n",
       "      <td>2959.132019</td>\n",
       "      <td>2958.705208</td>\n",
       "      <td>4.0</td>\n",
       "      <td>12.0</td>\n",
       "      <td>-8.0</td>\n",
       "    </tr>\n",
       "    <tr>\n",
       "      <th>3</th>\n",
       "      <td>421.070109</td>\n",
       "      <td>421.070109</td>\n",
       "      <td>405.141255</td>\n",
       "      <td>409.374446</td>\n",
       "      <td>184918.336958</td>\n",
       "      <td>-0.028616</td>\n",
       "      <td>428.058313</td>\n",
       "      <td>-0.009439</td>\n",
       "      <td>425.967569</td>\n",
       "      <td>-0.009439</td>\n",
       "      <td>...</td>\n",
       "      <td>-1.482512</td>\n",
       "      <td>434.311020</td>\n",
       "      <td>434.311020</td>\n",
       "      <td>434.311020</td>\n",
       "      <td>434.311020</td>\n",
       "      <td>2959.132019</td>\n",
       "      <td>2958.705208</td>\n",
       "      <td>4.0</td>\n",
       "      <td>16.0</td>\n",
       "      <td>-12.0</td>\n",
       "    </tr>\n",
       "    <tr>\n",
       "      <th>4</th>\n",
       "      <td>408.629726</td>\n",
       "      <td>414.614130</td>\n",
       "      <td>401.226524</td>\n",
       "      <td>411.324441</td>\n",
       "      <td>184861.280540</td>\n",
       "      <td>0.004752</td>\n",
       "      <td>423.247092</td>\n",
       "      <td>-0.029990</td>\n",
       "      <td>421.771761</td>\n",
       "      <td>-0.015451</td>\n",
       "      <td>...</td>\n",
       "      <td>-1.902812</td>\n",
       "      <td>432.095038</td>\n",
       "      <td>432.095038</td>\n",
       "      <td>432.095038</td>\n",
       "      <td>432.095038</td>\n",
       "      <td>2959.132019</td>\n",
       "      <td>2958.705208</td>\n",
       "      <td>4.0</td>\n",
       "      <td>20.0</td>\n",
       "      <td>-16.0</td>\n",
       "    </tr>\n",
       "    <tr>\n",
       "      <th>...</th>\n",
       "      <td>...</td>\n",
       "      <td>...</td>\n",
       "      <td>...</td>\n",
       "      <td>...</td>\n",
       "      <td>...</td>\n",
       "      <td>...</td>\n",
       "      <td>...</td>\n",
       "      <td>...</td>\n",
       "      <td>...</td>\n",
       "      <td>...</td>\n",
       "      <td>...</td>\n",
       "      <td>...</td>\n",
       "      <td>...</td>\n",
       "      <td>...</td>\n",
       "      <td>...</td>\n",
       "      <td>...</td>\n",
       "      <td>...</td>\n",
       "      <td>...</td>\n",
       "      <td>...</td>\n",
       "      <td>...</td>\n",
       "      <td>...</td>\n",
       "    </tr>\n",
       "    <tr>\n",
       "      <th>49995</th>\n",
       "      <td>1196.260531</td>\n",
       "      <td>1202.818168</td>\n",
       "      <td>1190.562239</td>\n",
       "      <td>1198.554444</td>\n",
       "      <td>187927.915848</td>\n",
       "      <td>0.001815</td>\n",
       "      <td>1191.192097</td>\n",
       "      <td>-0.001027</td>\n",
       "      <td>1197.494371</td>\n",
       "      <td>0.004440</td>\n",
       "      <td>...</td>\n",
       "      <td>-26.016722</td>\n",
       "      <td>1217.336000</td>\n",
       "      <td>1222.322194</td>\n",
       "      <td>1219.829097</td>\n",
       "      <td>1180.273020</td>\n",
       "      <td>1173.459051</td>\n",
       "      <td>1079.511605</td>\n",
       "      <td>48.0</td>\n",
       "      <td>100.0</td>\n",
       "      <td>-52.0</td>\n",
       "    </tr>\n",
       "    <tr>\n",
       "      <th>49996</th>\n",
       "      <td>1197.109298</td>\n",
       "      <td>1197.109298</td>\n",
       "      <td>1187.970426</td>\n",
       "      <td>1190.124270</td>\n",
       "      <td>176720.068793</td>\n",
       "      <td>-0.007058</td>\n",
       "      <td>1182.510957</td>\n",
       "      <td>0.000709</td>\n",
       "      <td>1189.524674</td>\n",
       "      <td>-0.004758</td>\n",
       "      <td>...</td>\n",
       "      <td>-27.599513</td>\n",
       "      <td>1211.386144</td>\n",
       "      <td>1218.220795</td>\n",
       "      <td>1214.803470</td>\n",
       "      <td>1181.488923</td>\n",
       "      <td>1177.437573</td>\n",
       "      <td>1084.109045</td>\n",
       "      <td>44.0</td>\n",
       "      <td>100.0</td>\n",
       "      <td>-56.0</td>\n",
       "    </tr>\n",
       "    <tr>\n",
       "      <th>49997</th>\n",
       "      <td>1190.705475</td>\n",
       "      <td>1192.735150</td>\n",
       "      <td>1165.600857</td>\n",
       "      <td>1165.973959</td>\n",
       "      <td>184662.867652</td>\n",
       "      <td>-0.020501</td>\n",
       "      <td>1173.242192</td>\n",
       "      <td>-0.005364</td>\n",
       "      <td>1180.992150</td>\n",
       "      <td>-0.003661</td>\n",
       "      <td>...</td>\n",
       "      <td>-29.048708</td>\n",
       "      <td>1204.868326</td>\n",
       "      <td>1213.835176</td>\n",
       "      <td>1209.351751</td>\n",
       "      <td>1182.594027</td>\n",
       "      <td>1181.812209</td>\n",
       "      <td>1089.440951</td>\n",
       "      <td>40.0</td>\n",
       "      <td>100.0</td>\n",
       "      <td>-60.0</td>\n",
       "    </tr>\n",
       "    <tr>\n",
       "      <th>49998</th>\n",
       "      <td>1166.710967</td>\n",
       "      <td>1177.609657</td>\n",
       "      <td>1160.903359</td>\n",
       "      <td>1164.064397</td>\n",
       "      <td>194111.124499</td>\n",
       "      <td>-0.001639</td>\n",
       "      <td>1163.385803</td>\n",
       "      <td>-0.020357</td>\n",
       "      <td>1171.896799</td>\n",
       "      <td>-0.012762</td>\n",
       "      <td>...</td>\n",
       "      <td>-30.364316</td>\n",
       "      <td>1197.782548</td>\n",
       "      <td>1209.165335</td>\n",
       "      <td>1203.473941</td>\n",
       "      <td>1183.569842</td>\n",
       "      <td>1186.379283</td>\n",
       "      <td>1095.364462</td>\n",
       "      <td>36.0</td>\n",
       "      <td>100.0</td>\n",
       "      <td>-64.0</td>\n",
       "    </tr>\n",
       "    <tr>\n",
       "      <th>49999</th>\n",
       "      <td>1163.346019</td>\n",
       "      <td>1171.119072</td>\n",
       "      <td>1161.080578</td>\n",
       "      <td>1164.968699</td>\n",
       "      <td>190684.810623</td>\n",
       "      <td>0.000777</td>\n",
       "      <td>1152.941790</td>\n",
       "      <td>-0.002888</td>\n",
       "      <td>1162.238622</td>\n",
       "      <td>-0.005527</td>\n",
       "      <td>...</td>\n",
       "      <td>-31.561572</td>\n",
       "      <td>1190.128809</td>\n",
       "      <td>1204.211273</td>\n",
       "      <td>1197.170041</td>\n",
       "      <td>1184.424332</td>\n",
       "      <td>1190.946398</td>\n",
       "      <td>1101.235929</td>\n",
       "      <td>32.0</td>\n",
       "      <td>100.0</td>\n",
       "      <td>-68.0</td>\n",
       "    </tr>\n",
       "  </tbody>\n",
       "</table>\n",
       "<p>50000 rows × 158 columns</p>\n",
       "</div>"
      ],
      "text/plain": [
       "              open         high          low        close         volume  \\\n",
       "0       404.000000   421.499157   402.795040   420.019800  184726.860192   \n",
       "1       421.325394   435.436550   421.325394   424.409465  184843.917852   \n",
       "2       425.063246   425.063246   414.313500   421.258139  184583.836810   \n",
       "3       421.070109   421.070109   405.141255   409.374446  184918.336958   \n",
       "4       408.629726   414.614130   401.226524   411.324441  184861.280540   \n",
       "...            ...          ...          ...          ...            ...   \n",
       "49995  1196.260531  1202.818168  1190.562239  1198.554444  187927.915848   \n",
       "49996  1197.109298  1197.109298  1187.970426  1190.124270  176720.068793   \n",
       "49997  1190.705475  1192.735150  1165.600857  1165.973959  184662.867652   \n",
       "49998  1166.710967  1177.609657  1160.903359  1164.064397  194111.124499   \n",
       "49999  1163.346019  1171.119072  1161.080578  1164.968699  190684.810623   \n",
       "\n",
       "       diff_close   soft_close  diff_open    soft_open  diff_high  ...  \\\n",
       "0             NaN   445.443162        NaN   441.091899        NaN  ...   \n",
       "1        0.010397   439.156348   0.041991   435.627638   0.032531  ...   \n",
       "2       -0.007453   433.361399   0.008833   430.586195  -0.024111  ...   \n",
       "3       -0.028616   428.058313  -0.009439   425.967569  -0.009439  ...   \n",
       "4        0.004752   423.247092  -0.029990   421.771761  -0.015451  ...   \n",
       "...           ...          ...        ...          ...        ...  ...   \n",
       "49995    0.001815  1191.192097  -0.001027  1197.494371   0.004440  ...   \n",
       "49996   -0.007058  1182.510957   0.000709  1189.524674  -0.004758  ...   \n",
       "49997   -0.020501  1173.242192  -0.005364  1180.992150  -0.003661  ...   \n",
       "49998   -0.001639  1163.385803  -0.020357  1171.896799  -0.012762  ...   \n",
       "49999    0.000777  1152.941790  -0.002888  1162.238622  -0.005527  ...   \n",
       "\n",
       "       soft_trend_kst_diff  soft_trend_ichimoku_conv  \\\n",
       "0                 0.000000                442.308376   \n",
       "1                -0.531106                439.417689   \n",
       "2                -1.025277                436.751903   \n",
       "3                -1.482512                434.311020   \n",
       "4                -1.902812                432.095038   \n",
       "...                    ...                       ...   \n",
       "49995           -26.016722               1217.336000   \n",
       "49996           -27.599513               1211.386144   \n",
       "49997           -29.048708               1204.868326   \n",
       "49998           -30.364316               1197.782548   \n",
       "49999           -31.561572               1190.128809   \n",
       "\n",
       "       soft_trend_ichimoku_base  soft_trend_ichimoku_a  soft_trend_ichimoku_b  \\\n",
       "0                    442.308376             442.308376             442.308376   \n",
       "1                    439.417689             439.417689             439.417689   \n",
       "2                    436.751903             436.751903             436.751903   \n",
       "3                    434.311020             434.311020             434.311020   \n",
       "4                    432.095038             432.095038             432.095038   \n",
       "...                         ...                    ...                    ...   \n",
       "49995               1222.322194            1219.829097            1180.273020   \n",
       "49996               1218.220795            1214.803470            1181.488923   \n",
       "49997               1213.835176            1209.351751            1182.594027   \n",
       "49998               1209.165335            1203.473941            1183.569842   \n",
       "49999               1204.211273            1197.170041            1184.424332   \n",
       "\n",
       "       soft_trend_visual_ichimoku_a  soft_trend_visual_ichimoku_b  \\\n",
       "0                       2959.132019                   2958.705208   \n",
       "1                       2959.132019                   2958.705208   \n",
       "2                       2959.132019                   2958.705208   \n",
       "3                       2959.132019                   2958.705208   \n",
       "4                       2959.132019                   2958.705208   \n",
       "...                             ...                           ...   \n",
       "49995                   1173.459051                   1079.511605   \n",
       "49996                   1177.437573                   1084.109045   \n",
       "49997                   1181.812209                   1089.440951   \n",
       "49998                   1186.379283                   1095.364462   \n",
       "49999                   1190.946398                   1101.235929   \n",
       "\n",
       "       soft_trend_aroon_up  soft_trend_aroon_down  soft_trend_aroon_ind  \n",
       "0                      4.0                    4.0                   0.0  \n",
       "1                      4.0                    8.0                  -4.0  \n",
       "2                      4.0                   12.0                  -8.0  \n",
       "3                      4.0                   16.0                 -12.0  \n",
       "4                      4.0                   20.0                 -16.0  \n",
       "...                    ...                    ...                   ...  \n",
       "49995                 48.0                  100.0                 -52.0  \n",
       "49996                 44.0                  100.0                 -56.0  \n",
       "49997                 40.0                  100.0                 -60.0  \n",
       "49998                 36.0                  100.0                 -64.0  \n",
       "49999                 32.0                  100.0                 -68.0  \n",
       "\n",
       "[50000 rows x 158 columns]"
      ]
     },
     "execution_count": 120,
     "metadata": {},
     "output_type": "execute_result"
    }
   ],
   "source": [
    "data"
   ]
  },
  {
   "cell_type": "code",
   "execution_count": null,
   "metadata": {},
   "outputs": [],
   "source": [
    "# data.columns"
   ]
  },
  {
   "cell_type": "markdown",
   "metadata": {},
   "source": [
    "#### Normalizing the data"
   ]
  },
  {
   "cell_type": "code",
   "execution_count": 106,
   "metadata": {
    "execution": {
     "iopub.execute_input": "2021-06-02T13:26:42.124182Z",
     "iopub.status.busy": "2021-06-02T13:26:42.123869Z",
     "iopub.status.idle": "2021-06-02T13:26:43.632338Z",
     "shell.execute_reply": "2021-06-02T13:26:43.631284Z",
     "shell.execute_reply.started": "2021-06-02T13:26:42.124155Z"
    },
    "id": "s7GGi3GW_SJX"
   },
   "outputs": [
    {
     "data": {
      "text/plain": [
       "['scaler.save']"
      ]
     },
     "execution_count": 106,
     "metadata": {},
     "output_type": "execute_result"
    }
   ],
   "source": [
    "scaler = MinMaxScaler(feature_range=(0.1, 1.1))\n",
    "norm_data = pd.DataFrame(scaler.fit_transform(data), columns=data.columns)\n",
    "norm_data.to_csv(\"fake_data_norm.csv\", index=False)\n",
    "import joblib\n",
    "joblib.dump(scaler, 'scaler.save')\n",
    "\n",
    "# norm_data = pd.read_csv(\"fake_data_norm.csv\")\n"
   ]
  },
  {
   "cell_type": "code",
   "execution_count": 107,
   "metadata": {},
   "outputs": [
    {
     "data": {
      "text/html": [
       "<div>\n",
       "<style scoped>\n",
       "    .dataframe tbody tr th:only-of-type {\n",
       "        vertical-align: middle;\n",
       "    }\n",
       "\n",
       "    .dataframe tbody tr th {\n",
       "        vertical-align: top;\n",
       "    }\n",
       "\n",
       "    .dataframe thead th {\n",
       "        text-align: right;\n",
       "    }\n",
       "</style>\n",
       "<table border=\"1\" class=\"dataframe\">\n",
       "  <thead>\n",
       "    <tr style=\"text-align: right;\">\n",
       "      <th></th>\n",
       "      <th>open</th>\n",
       "      <th>high</th>\n",
       "      <th>low</th>\n",
       "      <th>close</th>\n",
       "      <th>volume</th>\n",
       "      <th>diff_close</th>\n",
       "      <th>soft_close</th>\n",
       "      <th>diff_open</th>\n",
       "      <th>soft_open</th>\n",
       "      <th>diff_high</th>\n",
       "      <th>...</th>\n",
       "      <th>soft_trend_kst_diff</th>\n",
       "      <th>soft_trend_ichimoku_conv</th>\n",
       "      <th>soft_trend_ichimoku_base</th>\n",
       "      <th>soft_trend_ichimoku_a</th>\n",
       "      <th>soft_trend_ichimoku_b</th>\n",
       "      <th>soft_trend_visual_ichimoku_a</th>\n",
       "      <th>soft_trend_visual_ichimoku_b</th>\n",
       "      <th>soft_trend_aroon_up</th>\n",
       "      <th>soft_trend_aroon_down</th>\n",
       "      <th>soft_trend_aroon_ind</th>\n",
       "    </tr>\n",
       "  </thead>\n",
       "  <tbody>\n",
       "    <tr>\n",
       "      <th>0</th>\n",
       "      <td>0.163329</td>\n",
       "      <td>0.165396</td>\n",
       "      <td>0.163249</td>\n",
       "      <td>0.165861</td>\n",
       "      <td>0.239165</td>\n",
       "      <td>NaN</td>\n",
       "      <td>0.168478</td>\n",
       "      <td>NaN</td>\n",
       "      <td>0.167807</td>\n",
       "      <td>NaN</td>\n",
       "      <td>...</td>\n",
       "      <td>0.511407</td>\n",
       "      <td>0.167682</td>\n",
       "      <td>0.165829</td>\n",
       "      <td>0.166301</td>\n",
       "      <td>0.164701</td>\n",
       "      <td>0.564677</td>\n",
       "      <td>0.564541</td>\n",
       "      <td>0.100000</td>\n",
       "      <td>0.100000</td>\n",
       "      <td>0.600000</td>\n",
       "    </tr>\n",
       "    <tr>\n",
       "      <th>1</th>\n",
       "      <td>0.166047</td>\n",
       "      <td>0.167582</td>\n",
       "      <td>0.166159</td>\n",
       "      <td>0.166550</td>\n",
       "      <td>0.239542</td>\n",
       "      <td>0.535249</td>\n",
       "      <td>0.167486</td>\n",
       "      <td>0.591777</td>\n",
       "      <td>0.166946</td>\n",
       "      <td>0.568485</td>\n",
       "      <td>...</td>\n",
       "      <td>0.511089</td>\n",
       "      <td>0.167226</td>\n",
       "      <td>0.165371</td>\n",
       "      <td>0.165844</td>\n",
       "      <td>0.164242</td>\n",
       "      <td>0.564677</td>\n",
       "      <td>0.564541</td>\n",
       "      <td>0.100000</td>\n",
       "      <td>0.141667</td>\n",
       "      <td>0.579167</td>\n",
       "    </tr>\n",
       "    <tr>\n",
       "      <th>2</th>\n",
       "      <td>0.166634</td>\n",
       "      <td>0.165955</td>\n",
       "      <td>0.165058</td>\n",
       "      <td>0.166056</td>\n",
       "      <td>0.238704</td>\n",
       "      <td>0.533162</td>\n",
       "      <td>0.166572</td>\n",
       "      <td>0.587412</td>\n",
       "      <td>0.166151</td>\n",
       "      <td>0.551628</td>\n",
       "      <td>...</td>\n",
       "      <td>0.510793</td>\n",
       "      <td>0.166805</td>\n",
       "      <td>0.164949</td>\n",
       "      <td>0.165422</td>\n",
       "      <td>0.163818</td>\n",
       "      <td>0.564677</td>\n",
       "      <td>0.564541</td>\n",
       "      <td>0.100000</td>\n",
       "      <td>0.183333</td>\n",
       "      <td>0.558333</td>\n",
       "    </tr>\n",
       "    <tr>\n",
       "      <th>3</th>\n",
       "      <td>0.166007</td>\n",
       "      <td>0.165329</td>\n",
       "      <td>0.163618</td>\n",
       "      <td>0.164192</td>\n",
       "      <td>0.239782</td>\n",
       "      <td>0.530688</td>\n",
       "      <td>0.165736</td>\n",
       "      <td>0.585006</td>\n",
       "      <td>0.165422</td>\n",
       "      <td>0.555994</td>\n",
       "      <td>...</td>\n",
       "      <td>0.510519</td>\n",
       "      <td>0.166420</td>\n",
       "      <td>0.164562</td>\n",
       "      <td>0.165035</td>\n",
       "      <td>0.163431</td>\n",
       "      <td>0.564677</td>\n",
       "      <td>0.564541</td>\n",
       "      <td>0.100000</td>\n",
       "      <td>0.225000</td>\n",
       "      <td>0.537500</td>\n",
       "    </tr>\n",
       "    <tr>\n",
       "      <th>4</th>\n",
       "      <td>0.164055</td>\n",
       "      <td>0.164316</td>\n",
       "      <td>0.163003</td>\n",
       "      <td>0.164497</td>\n",
       "      <td>0.239598</td>\n",
       "      <td>0.534589</td>\n",
       "      <td>0.164977</td>\n",
       "      <td>0.582301</td>\n",
       "      <td>0.164761</td>\n",
       "      <td>0.554205</td>\n",
       "      <td>...</td>\n",
       "      <td>0.510267</td>\n",
       "      <td>0.166070</td>\n",
       "      <td>0.164211</td>\n",
       "      <td>0.164685</td>\n",
       "      <td>0.163078</td>\n",
       "      <td>0.564677</td>\n",
       "      <td>0.564541</td>\n",
       "      <td>0.100000</td>\n",
       "      <td>0.266667</td>\n",
       "      <td>0.516667</td>\n",
       "    </tr>\n",
       "    <tr>\n",
       "      <th>...</th>\n",
       "      <td>...</td>\n",
       "      <td>...</td>\n",
       "      <td>...</td>\n",
       "      <td>...</td>\n",
       "      <td>...</td>\n",
       "      <td>...</td>\n",
       "      <td>...</td>\n",
       "      <td>...</td>\n",
       "      <td>...</td>\n",
       "      <td>...</td>\n",
       "      <td>...</td>\n",
       "      <td>...</td>\n",
       "      <td>...</td>\n",
       "      <td>...</td>\n",
       "      <td>...</td>\n",
       "      <td>...</td>\n",
       "      <td>...</td>\n",
       "      <td>...</td>\n",
       "      <td>...</td>\n",
       "      <td>...</td>\n",
       "      <td>...</td>\n",
       "    </tr>\n",
       "    <tr>\n",
       "      <th>49995</th>\n",
       "      <td>0.287638</td>\n",
       "      <td>0.287944</td>\n",
       "      <td>0.286953</td>\n",
       "      <td>0.287980</td>\n",
       "      <td>0.249488</td>\n",
       "      <td>0.534246</td>\n",
       "      <td>0.286085</td>\n",
       "      <td>0.586114</td>\n",
       "      <td>0.287090</td>\n",
       "      <td>0.560125</td>\n",
       "      <td>...</td>\n",
       "      <td>0.495818</td>\n",
       "      <td>0.289978</td>\n",
       "      <td>0.289363</td>\n",
       "      <td>0.289371</td>\n",
       "      <td>0.281959</td>\n",
       "      <td>0.282031</td>\n",
       "      <td>0.265949</td>\n",
       "      <td>0.558333</td>\n",
       "      <td>1.100000</td>\n",
       "      <td>0.329167</td>\n",
       "    </tr>\n",
       "    <tr>\n",
       "      <th>49996</th>\n",
       "      <td>0.287771</td>\n",
       "      <td>0.287049</td>\n",
       "      <td>0.286546</td>\n",
       "      <td>0.286657</td>\n",
       "      <td>0.213343</td>\n",
       "      <td>0.533209</td>\n",
       "      <td>0.284715</td>\n",
       "      <td>0.586342</td>\n",
       "      <td>0.285833</td>\n",
       "      <td>0.557388</td>\n",
       "      <td>...</td>\n",
       "      <td>0.494870</td>\n",
       "      <td>0.289039</td>\n",
       "      <td>0.288713</td>\n",
       "      <td>0.288576</td>\n",
       "      <td>0.282152</td>\n",
       "      <td>0.282661</td>\n",
       "      <td>0.266679</td>\n",
       "      <td>0.516667</td>\n",
       "      <td>1.100000</td>\n",
       "      <td>0.308333</td>\n",
       "    </tr>\n",
       "    <tr>\n",
       "      <th>49997</th>\n",
       "      <td>0.286766</td>\n",
       "      <td>0.286363</td>\n",
       "      <td>0.283033</td>\n",
       "      <td>0.282869</td>\n",
       "      <td>0.238958</td>\n",
       "      <td>0.531637</td>\n",
       "      <td>0.283254</td>\n",
       "      <td>0.585543</td>\n",
       "      <td>0.284487</td>\n",
       "      <td>0.557714</td>\n",
       "      <td>...</td>\n",
       "      <td>0.494002</td>\n",
       "      <td>0.288011</td>\n",
       "      <td>0.288019</td>\n",
       "      <td>0.287713</td>\n",
       "      <td>0.282328</td>\n",
       "      <td>0.283354</td>\n",
       "      <td>0.267527</td>\n",
       "      <td>0.475000</td>\n",
       "      <td>1.100000</td>\n",
       "      <td>0.287500</td>\n",
       "    </tr>\n",
       "    <tr>\n",
       "      <th>49998</th>\n",
       "      <td>0.283001</td>\n",
       "      <td>0.283990</td>\n",
       "      <td>0.282295</td>\n",
       "      <td>0.282570</td>\n",
       "      <td>0.269429</td>\n",
       "      <td>0.533842</td>\n",
       "      <td>0.281699</td>\n",
       "      <td>0.583569</td>\n",
       "      <td>0.283053</td>\n",
       "      <td>0.555005</td>\n",
       "      <td>...</td>\n",
       "      <td>0.493214</td>\n",
       "      <td>0.286892</td>\n",
       "      <td>0.287279</td>\n",
       "      <td>0.286782</td>\n",
       "      <td>0.282483</td>\n",
       "      <td>0.284076</td>\n",
       "      <td>0.268468</td>\n",
       "      <td>0.433333</td>\n",
       "      <td>1.100000</td>\n",
       "      <td>0.266667</td>\n",
       "    </tr>\n",
       "    <tr>\n",
       "      <th>49999</th>\n",
       "      <td>0.282473</td>\n",
       "      <td>0.282972</td>\n",
       "      <td>0.282323</td>\n",
       "      <td>0.282712</td>\n",
       "      <td>0.258379</td>\n",
       "      <td>0.534125</td>\n",
       "      <td>0.280052</td>\n",
       "      <td>0.585869</td>\n",
       "      <td>0.281530</td>\n",
       "      <td>0.557159</td>\n",
       "      <td>...</td>\n",
       "      <td>0.492496</td>\n",
       "      <td>0.285685</td>\n",
       "      <td>0.286495</td>\n",
       "      <td>0.285784</td>\n",
       "      <td>0.282619</td>\n",
       "      <td>0.284799</td>\n",
       "      <td>0.269401</td>\n",
       "      <td>0.391667</td>\n",
       "      <td>1.100000</td>\n",
       "      <td>0.245833</td>\n",
       "    </tr>\n",
       "  </tbody>\n",
       "</table>\n",
       "<p>50000 rows × 158 columns</p>\n",
       "</div>"
      ],
      "text/plain": [
       "           open      high       low     close    volume  diff_close  \\\n",
       "0      0.163329  0.165396  0.163249  0.165861  0.239165         NaN   \n",
       "1      0.166047  0.167582  0.166159  0.166550  0.239542    0.535249   \n",
       "2      0.166634  0.165955  0.165058  0.166056  0.238704    0.533162   \n",
       "3      0.166007  0.165329  0.163618  0.164192  0.239782    0.530688   \n",
       "4      0.164055  0.164316  0.163003  0.164497  0.239598    0.534589   \n",
       "...         ...       ...       ...       ...       ...         ...   \n",
       "49995  0.287638  0.287944  0.286953  0.287980  0.249488    0.534246   \n",
       "49996  0.287771  0.287049  0.286546  0.286657  0.213343    0.533209   \n",
       "49997  0.286766  0.286363  0.283033  0.282869  0.238958    0.531637   \n",
       "49998  0.283001  0.283990  0.282295  0.282570  0.269429    0.533842   \n",
       "49999  0.282473  0.282972  0.282323  0.282712  0.258379    0.534125   \n",
       "\n",
       "       soft_close  diff_open  soft_open  diff_high  ...  soft_trend_kst_diff  \\\n",
       "0        0.168478        NaN   0.167807        NaN  ...             0.511407   \n",
       "1        0.167486   0.591777   0.166946   0.568485  ...             0.511089   \n",
       "2        0.166572   0.587412   0.166151   0.551628  ...             0.510793   \n",
       "3        0.165736   0.585006   0.165422   0.555994  ...             0.510519   \n",
       "4        0.164977   0.582301   0.164761   0.554205  ...             0.510267   \n",
       "...           ...        ...        ...        ...  ...                  ...   \n",
       "49995    0.286085   0.586114   0.287090   0.560125  ...             0.495818   \n",
       "49996    0.284715   0.586342   0.285833   0.557388  ...             0.494870   \n",
       "49997    0.283254   0.585543   0.284487   0.557714  ...             0.494002   \n",
       "49998    0.281699   0.583569   0.283053   0.555005  ...             0.493214   \n",
       "49999    0.280052   0.585869   0.281530   0.557159  ...             0.492496   \n",
       "\n",
       "       soft_trend_ichimoku_conv  soft_trend_ichimoku_base  \\\n",
       "0                      0.167682                  0.165829   \n",
       "1                      0.167226                  0.165371   \n",
       "2                      0.166805                  0.164949   \n",
       "3                      0.166420                  0.164562   \n",
       "4                      0.166070                  0.164211   \n",
       "...                         ...                       ...   \n",
       "49995                  0.289978                  0.289363   \n",
       "49996                  0.289039                  0.288713   \n",
       "49997                  0.288011                  0.288019   \n",
       "49998                  0.286892                  0.287279   \n",
       "49999                  0.285685                  0.286495   \n",
       "\n",
       "       soft_trend_ichimoku_a  soft_trend_ichimoku_b  \\\n",
       "0                   0.166301               0.164701   \n",
       "1                   0.165844               0.164242   \n",
       "2                   0.165422               0.163818   \n",
       "3                   0.165035               0.163431   \n",
       "4                   0.164685               0.163078   \n",
       "...                      ...                    ...   \n",
       "49995               0.289371               0.281959   \n",
       "49996               0.288576               0.282152   \n",
       "49997               0.287713               0.282328   \n",
       "49998               0.286782               0.282483   \n",
       "49999               0.285784               0.282619   \n",
       "\n",
       "       soft_trend_visual_ichimoku_a  soft_trend_visual_ichimoku_b  \\\n",
       "0                          0.564677                      0.564541   \n",
       "1                          0.564677                      0.564541   \n",
       "2                          0.564677                      0.564541   \n",
       "3                          0.564677                      0.564541   \n",
       "4                          0.564677                      0.564541   \n",
       "...                             ...                           ...   \n",
       "49995                      0.282031                      0.265949   \n",
       "49996                      0.282661                      0.266679   \n",
       "49997                      0.283354                      0.267527   \n",
       "49998                      0.284076                      0.268468   \n",
       "49999                      0.284799                      0.269401   \n",
       "\n",
       "       soft_trend_aroon_up  soft_trend_aroon_down  soft_trend_aroon_ind  \n",
       "0                 0.100000               0.100000              0.600000  \n",
       "1                 0.100000               0.141667              0.579167  \n",
       "2                 0.100000               0.183333              0.558333  \n",
       "3                 0.100000               0.225000              0.537500  \n",
       "4                 0.100000               0.266667              0.516667  \n",
       "...                    ...                    ...                   ...  \n",
       "49995             0.558333               1.100000              0.329167  \n",
       "49996             0.516667               1.100000              0.308333  \n",
       "49997             0.475000               1.100000              0.287500  \n",
       "49998             0.433333               1.100000              0.266667  \n",
       "49999             0.391667               1.100000              0.245833  \n",
       "\n",
       "[50000 rows x 158 columns]"
      ]
     },
     "execution_count": 107,
     "metadata": {},
     "output_type": "execute_result"
    }
   ],
   "source": [
    "norm_data"
   ]
  },
  {
   "cell_type": "markdown",
   "metadata": {},
   "source": [
    "#### Creating a training environment with a 10-period window"
   ]
  },
  {
   "cell_type": "code",
   "execution_count": 108,
   "metadata": {},
   "outputs": [],
   "source": [
    "config = {\n",
    "            \"window_size\": 10,\n",
    "            \"data\": norm_data\n",
    "        }\n",
    "\n",
    "env = createEnv(config)"
   ]
  },
  {
   "cell_type": "markdown",
   "metadata": {},
   "source": [
    "#### Running agent training with 100,000 steps and 10 episodes.\n",
    "The agent will be saved in the \"agents/\" folder"
   ]
  },
  {
   "cell_type": "code",
   "execution_count": 109,
   "metadata": {
    "execution": {
     "iopub.execute_input": "2021-06-02T13:46:11.836557Z",
     "iopub.status.busy": "2021-06-02T13:46:11.836199Z",
     "iopub.status.idle": "2021-06-02T16:28:35.417787Z",
     "shell.execute_reply": "2021-06-02T16:28:35.416817Z",
     "shell.execute_reply.started": "2021-06-02T13:46:11.836524Z"
    }
   },
   "outputs": [
    {
     "name": "stdout",
     "output_type": "stream",
     "text": [
      "====      AGENT ID: 09cbaebf-2910-41d6-aa8c-8a2fbff0e019      ====\n",
      "====      EPISODE ID (1/10): b4ffa8a9-f54e-495c-9492-5896550ac091      ====\n"
     ]
    }
   ],
   "source": [
    "!mkdir -p agents/\n",
    "\n",
    "agent = A2CAgent(env)\n",
    "reward = agent.train(n_steps=20000, save_path=\"agents/\", n_episodes = 10)"
   ]
  },
  {
   "cell_type": "markdown",
   "metadata": {},
   "source": [
    "#### Creating a new environment to check agent performance in training"
   ]
  },
  {
   "cell_type": "code",
   "execution_count": 110,
   "metadata": {
    "execution": {
     "iopub.execute_input": "2021-06-02T16:28:35.420011Z",
     "iopub.status.busy": "2021-06-02T16:28:35.419519Z",
     "iopub.status.idle": "2021-06-02T16:28:36.610302Z",
     "shell.execute_reply": "2021-06-02T16:28:36.609263Z",
     "shell.execute_reply.started": "2021-06-02T16:28:35.419970Z"
    },
    "id": "c4E7r891YM_e"
   },
   "outputs": [],
   "source": [
    "env = createEnv({\n",
    "    \"window_size\": 10, \n",
    "    \"data\": norm_data\n",
    "})\n"
   ]
  },
  {
   "cell_type": "markdown",
   "metadata": {},
   "source": [
    "#### Require action until step returns Done == True"
   ]
  },
  {
   "cell_type": "code",
   "execution_count": 111,
   "metadata": {},
   "outputs": [],
   "source": [
    "episode_reward = 0\n",
    "done = False\n",
    "obs = env.reset()\n",
    "\n",
    "while not done:\n",
    "    action = agent.get_action(obs)\n",
    "    obs, reward, done, info = env.step(action)\n",
    "    episode_reward += reward"
   ]
  },
  {
   "cell_type": "code",
   "execution_count": 112,
   "metadata": {
    "execution": {
     "iopub.execute_input": "2021-06-02T16:28:36.614339Z",
     "iopub.status.busy": "2021-06-02T16:28:36.613824Z",
     "iopub.status.idle": "2021-06-02T16:28:36.658274Z",
     "shell.execute_reply": "2021-06-02T16:28:36.657098Z",
     "shell.execute_reply.started": "2021-06-02T16:28:36.614300Z"
    }
   },
   "outputs": [
    {
     "data": {
      "text/plain": [
       "1.0"
      ]
     },
     "execution_count": 112,
     "metadata": {},
     "output_type": "execute_result"
    }
   ],
   "source": [
    "reward"
   ]
  },
  {
   "cell_type": "markdown",
   "metadata": {},
   "source": [
    "#### Plotting agent performance"
   ]
  },
  {
   "cell_type": "code",
   "execution_count": 113,
   "metadata": {
    "execution": {
     "iopub.execute_input": "2021-06-02T16:28:36.660929Z",
     "iopub.status.busy": "2021-06-02T16:28:36.660487Z",
     "iopub.status.idle": "2021-06-02T16:28:37.145426Z",
     "shell.execute_reply": "2021-06-02T16:28:37.143937Z",
     "shell.execute_reply.started": "2021-06-02T16:28:36.660889Z"
    },
    "id": "FavTHX06aQXO"
   },
   "outputs": [
    {
     "data": {
      "image/png": "[encoded data removed]",
      "text/plain": [
       "<Figure size 1080x360 with 2 Axes>"
      ]
     },
     "metadata": {
      "needs_background": "light"
     },
     "output_type": "display_data"
    }
   ],
   "source": [
    "fig, axs = plt.subplots(1, 2, figsize=(15, 5))\n",
    "\n",
    "fig.suptitle(\"Performance\")\n",
    "\n",
    "axs[0].plot(np.arange(len(norm_data[\"close\"])), norm_data[\"close\"], label=\"price\")\n",
    "axs[0].set_title(\"Trading Chart\")\n",
    "\n",
    "performance_df = pd.DataFrame().from_dict(env.action_scheme.portfolio.performance, orient='index')\n",
    "performance_df.plot(ax=axs[1])\n",
    "axs[1].set_title(\"Net Worth\")\n",
    "\n",
    "plt.show()"
   ]
  },
  {
   "cell_type": "code",
   "execution_count": 114,
   "metadata": {},
   "outputs": [],
   "source": [
    "orDict = OrderedDict()\n",
    "for k in env.action_scheme.portfolio.performance.keys():\n",
    "    orDict[k] = env.action_scheme.portfolio.performance[k][\"net_worth\"]"
   ]
  },
  {
   "cell_type": "code",
   "execution_count": 115,
   "metadata": {},
   "outputs": [
    {
     "data": {
      "text/plain": [
       "<AxesSubplot:>"
      ]
     },
     "execution_count": 115,
     "metadata": {},
     "output_type": "execute_result"
    },
    {
     "data": {
      "image/png": "[encoded data removed]",
      "text/plain": [
       "<Figure size 432x288 with 1 Axes>"
      ]
     },
     "metadata": {
      "needs_background": "light"
     },
     "output_type": "display_data"
    }
   ],
   "source": [
    "pd.DataFrame().from_dict(orDict, orient='index').plot()"
   ]
  },
  {
   "cell_type": "markdown",
   "metadata": {},
   "source": [
    "#### Create new data to assess how the agent behaves in data you've never seen"
   ]
  },
  {
   "cell_type": "code",
   "execution_count": 116,
   "metadata": {
    "execution": {
     "iopub.execute_input": "2021-06-02T16:28:37.147806Z",
     "iopub.status.busy": "2021-06-02T16:28:37.147300Z",
     "iopub.status.idle": "2021-06-02T16:28:37.512470Z",
     "shell.execute_reply": "2021-06-02T16:28:37.511260Z",
     "shell.execute_reply.started": "2021-06-02T16:28:37.147732Z"
    }
   },
   "outputs": [
    {
     "data": {
      "text/plain": [
       "<AxesSubplot:>"
      ]
     },
     "execution_count": 116,
     "metadata": {},
     "output_type": "execute_result"
    },
    {
     "data": {
      "image/png": "[encoded data removed]",
      "text/plain": [
       "<Figure size 432x288 with 1 Axes>"
      ]
     },
     "metadata": {
      "needs_background": "light"
     },
     "output_type": "display_data"
    }
   ],
   "source": [
    "data2 = sp.fbm(\n",
    "    base_price=10000,\n",
    "    base_volume=5000,\n",
    "    start_date=\"2010-01-01\",\n",
    "    times_to_generate=10000,\n",
    "    time_frame='1H'\n",
    ")\n",
    "data2 = data2.reset_index(drop=True)\n",
    "data2.close.plot()\n"
   ]
  },
  {
   "cell_type": "code",
   "execution_count": 117,
   "metadata": {},
   "outputs": [],
   "source": [
    "for column in [\"close\", \"open\", \"high\", \"low\", \"volume\"]:\n",
    "    data2[f\"diff_{column}\"] = data2[f\"{column}\"].apply(np.log).diff().dropna()\n",
    "    data2[f\"soft_{column}\"] = savgol_filter(data2[column], 35, 2)\n"
   ]
  },
  {
   "cell_type": "code",
   "execution_count": 118,
   "metadata": {
    "execution": {
     "iopub.execute_input": "2021-06-02T16:28:37.514683Z",
     "iopub.status.busy": "2021-06-02T16:28:37.514192Z",
     "iopub.status.idle": "2021-06-02T16:28:38.146201Z",
     "shell.execute_reply": "2021-06-02T16:28:38.145063Z",
     "shell.execute_reply.started": "2021-06-02T16:28:37.514625Z"
    }
   },
   "outputs": [
    {
     "name": "stderr",
     "output_type": "stream",
     "text": [
      "/Library/Frameworks/Python.framework/Versions/3.7/lib/python3.7/site-packages/ta/trend.py:768: RuntimeWarning:\n",
      "\n",
      "invalid value encountered in double_scalars\n",
      "\n",
      "/Library/Frameworks/Python.framework/Versions/3.7/lib/python3.7/site-packages/ta/trend.py:772: RuntimeWarning:\n",
      "\n",
      "invalid value encountered in double_scalars\n",
      "\n",
      "/Library/Frameworks/Python.framework/Versions/3.7/lib/python3.7/site-packages/ta/trend.py:768: RuntimeWarning:\n",
      "\n",
      "invalid value encountered in double_scalars\n",
      "\n",
      "/Library/Frameworks/Python.framework/Versions/3.7/lib/python3.7/site-packages/ta/trend.py:772: RuntimeWarning:\n",
      "\n",
      "invalid value encountered in double_scalars\n",
      "\n"
     ]
    }
   ],
   "source": [
    "data2 = fetchTaFeatures(data2)\n",
    "data2 = fetchTaFeatures(data2,\n",
    "                       columns = {'open': \"soft_open\", 'high':\"soft_high\", 'low':\"soft_low\", \n",
    "                                  'close':\"soft_close\", 'volume':\"volume\"}, \n",
    "                       colprefix=\"soft_\"\n",
    "                      )"
   ]
  },
  {
   "cell_type": "code",
   "execution_count": 119,
   "metadata": {
    "execution": {
     "iopub.execute_input": "2021-06-02T16:28:38.147708Z",
     "iopub.status.busy": "2021-06-02T16:28:38.147415Z",
     "iopub.status.idle": "2021-06-02T16:28:38.160362Z",
     "shell.execute_reply": "2021-06-02T16:28:38.159141Z",
     "shell.execute_reply.started": "2021-06-02T16:28:38.147681Z"
    }
   },
   "outputs": [
    {
     "ename": "ValueError",
     "evalue": "X has 181 features, but MinMaxScaler is expecting 158 features as input.",
     "output_type": "error",
     "traceback": [
      "\u001b[0;31m---------------------------------------------------------------------------\u001b[0m",
      "\u001b[0;31mValueError\u001b[0m                                Traceback (most recent call last)",
      "\u001b[0;32m<ipython-input-119-b7819f1e7207>\u001b[0m in \u001b[0;36m<module>\u001b[0;34m\u001b[0m\n\u001b[0;32m----> 1\u001b[0;31m \u001b[0mnorm_data\u001b[0m \u001b[0;34m=\u001b[0m \u001b[0mpd\u001b[0m\u001b[0;34m.\u001b[0m\u001b[0mDataFrame\u001b[0m\u001b[0;34m(\u001b[0m\u001b[0mscaler\u001b[0m\u001b[0;34m.\u001b[0m\u001b[0mtransform\u001b[0m\u001b[0;34m(\u001b[0m\u001b[0mdata2\u001b[0m\u001b[0;34m)\u001b[0m\u001b[0;34m,\u001b[0m \u001b[0mcolumns\u001b[0m\u001b[0;34m=\u001b[0m\u001b[0mdata2\u001b[0m\u001b[0;34m.\u001b[0m\u001b[0mcolumns\u001b[0m\u001b[0;34m)\u001b[0m\u001b[0;34m\u001b[0m\u001b[0;34m\u001b[0m\u001b[0m\n\u001b[0m",
      "\u001b[0;32m/Library/Frameworks/Python.framework/Versions/3.7/lib/python3.7/site-packages/sklearn/preprocessing/_data.py\u001b[0m in \u001b[0;36mtransform\u001b[0;34m(self, X)\u001b[0m\n\u001b[1;32m    433\u001b[0m \u001b[0;34m\u001b[0m\u001b[0m\n\u001b[1;32m    434\u001b[0m         X = self._validate_data(X, copy=self.copy, dtype=FLOAT_DTYPES,\n\u001b[0;32m--> 435\u001b[0;31m                                 force_all_finite=\"allow-nan\", reset=False)\n\u001b[0m\u001b[1;32m    436\u001b[0m \u001b[0;34m\u001b[0m\u001b[0m\n\u001b[1;32m    437\u001b[0m         \u001b[0mX\u001b[0m \u001b[0;34m*=\u001b[0m \u001b[0mself\u001b[0m\u001b[0;34m.\u001b[0m\u001b[0mscale_\u001b[0m\u001b[0;34m\u001b[0m\u001b[0;34m\u001b[0m\u001b[0m\n",
      "\u001b[0;32m/Library/Frameworks/Python.framework/Versions/3.7/lib/python3.7/site-packages/sklearn/base.py\u001b[0m in \u001b[0;36m_validate_data\u001b[0;34m(self, X, y, reset, validate_separately, **check_params)\u001b[0m\n\u001b[1;32m    435\u001b[0m \u001b[0;34m\u001b[0m\u001b[0m\n\u001b[1;32m    436\u001b[0m         \u001b[0;32mif\u001b[0m \u001b[0mcheck_params\u001b[0m\u001b[0;34m.\u001b[0m\u001b[0mget\u001b[0m\u001b[0;34m(\u001b[0m\u001b[0;34m'ensure_2d'\u001b[0m\u001b[0;34m,\u001b[0m \u001b[0;32mTrue\u001b[0m\u001b[0;34m)\u001b[0m\u001b[0;34m:\u001b[0m\u001b[0;34m\u001b[0m\u001b[0;34m\u001b[0m\u001b[0m\n\u001b[0;32m--> 437\u001b[0;31m             \u001b[0mself\u001b[0m\u001b[0;34m.\u001b[0m\u001b[0m_check_n_features\u001b[0m\u001b[0;34m(\u001b[0m\u001b[0mX\u001b[0m\u001b[0;34m,\u001b[0m \u001b[0mreset\u001b[0m\u001b[0;34m=\u001b[0m\u001b[0mreset\u001b[0m\u001b[0;34m)\u001b[0m\u001b[0;34m\u001b[0m\u001b[0;34m\u001b[0m\u001b[0m\n\u001b[0m\u001b[1;32m    438\u001b[0m \u001b[0;34m\u001b[0m\u001b[0m\n\u001b[1;32m    439\u001b[0m         \u001b[0;32mreturn\u001b[0m \u001b[0mout\u001b[0m\u001b[0;34m\u001b[0m\u001b[0;34m\u001b[0m\u001b[0m\n",
      "\u001b[0;32m/Library/Frameworks/Python.framework/Versions/3.7/lib/python3.7/site-packages/sklearn/base.py\u001b[0m in \u001b[0;36m_check_n_features\u001b[0;34m(self, X, reset)\u001b[0m\n\u001b[1;32m    364\u001b[0m         \u001b[0;32mif\u001b[0m \u001b[0mn_features\u001b[0m \u001b[0;34m!=\u001b[0m \u001b[0mself\u001b[0m\u001b[0;34m.\u001b[0m\u001b[0mn_features_in_\u001b[0m\u001b[0;34m:\u001b[0m\u001b[0;34m\u001b[0m\u001b[0;34m\u001b[0m\u001b[0m\n\u001b[1;32m    365\u001b[0m             raise ValueError(\n\u001b[0;32m--> 366\u001b[0;31m                 \u001b[0;34mf\"X has {n_features} features, but {self.__class__.__name__} \"\u001b[0m\u001b[0;34m\u001b[0m\u001b[0;34m\u001b[0m\u001b[0m\n\u001b[0m\u001b[1;32m    367\u001b[0m                 f\"is expecting {self.n_features_in_} features as input.\")\n\u001b[1;32m    368\u001b[0m \u001b[0;34m\u001b[0m\u001b[0m\n",
      "\u001b[0;31mValueError\u001b[0m: X has 181 features, but MinMaxScaler is expecting 158 features as input."
     ]
    }
   ],
   "source": [
    "norm_data = pd.DataFrame(scaler.transform(data2), columns=data2.columns)"
   ]
  },
  {
   "cell_type": "code",
   "execution_count": null,
   "metadata": {
    "execution": {
     "iopub.execute_input": "2021-06-02T16:28:38.163089Z",
     "iopub.status.busy": "2021-06-02T16:28:38.162770Z",
     "iopub.status.idle": "2021-06-02T16:28:39.500456Z",
     "shell.execute_reply": "2021-06-02T16:28:39.499310Z",
     "shell.execute_reply.started": "2021-06-02T16:28:38.163059Z"
    },
    "id": "z8vQyg0D_SJY"
   },
   "outputs": [],
   "source": [
    "env = createEnv({\n",
    "    \"window_size\": 10, \n",
    "    \"data\": norm_data\n",
    "})\n",
    "\n",
    "episode_reward = 0\n",
    "done = False\n",
    "obs = env.reset()\n",
    "\n",
    "while not done:\n",
    "    action = agent.get_action(obs)\n",
    "    obs, reward, done, info = env.step(action)\n",
    "    episode_reward += reward"
   ]
  },
  {
   "cell_type": "markdown",
   "metadata": {},
   "source": [
    "#### Ploting performance in test data"
   ]
  },
  {
   "cell_type": "code",
   "execution_count": null,
   "metadata": {
    "execution": {
     "iopub.execute_input": "2021-06-02T17:32:20.493623Z",
     "iopub.status.busy": "2021-06-02T17:32:20.493283Z",
     "iopub.status.idle": "2021-06-02T17:32:20.564915Z",
     "shell.execute_reply": "2021-06-02T17:32:20.563533Z",
     "shell.execute_reply.started": "2021-06-02T17:32:20.493557Z"
    }
   },
   "outputs": [],
   "source": [
    "fig, axs = plt.subplots(1, 2, figsize=(15, 5))\n",
    "\n",
    "fig.suptitle(\"Performance\")\n",
    "\n",
    "axs[0].plot(np.arange(len(data2[\"close\"])), data2[\"close\"], label=\"price\")\n",
    "axs[0].set_title(\"Trading Chart\")\n",
    "\n",
    "performance_df = pd.DataFrame().from_dict(env.action_scheme.portfolio.performance, orient='index')\n",
    "performance_df.plot(ax=axs[1])\n",
    "axs[1].set_title(\"Net Worth\")\n",
    "# axs[1].set_xlim(0, 800)\n",
    "\n",
    "plt.show()"
   ]
  },
  {
   "cell_type": "code",
   "execution_count": null,
   "metadata": {},
   "outputs": [],
   "source": []
  },
  {
   "cell_type": "code",
   "execution_count": null,
   "metadata": {},
   "outputs": [],
   "source": []
  },
  {
   "cell_type": "markdown",
   "metadata": {},
   "source": []
  }
 ],
 "metadata": {
  "kernelspec": {
   "display_name": "venv3",
   "language": "python",
   "name": "venv3"
  },
  "language_info": {
   "codemirror_mode": {
    "name": "ipython",
    "version": 3
   },
   "file_extension": ".py",
   "mimetype": "text/x-python",
   "name": "python",
   "nbconvert_exporter": "python",
   "pygments_lexer": "ipython3",
   "version": "3.7.5"
  }
 },
 "nbformat": 4,
 "nbformat_minor": 4
}
